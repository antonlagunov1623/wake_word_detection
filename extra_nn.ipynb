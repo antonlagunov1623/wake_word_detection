{
 "cells": [
  {
   "cell_type": "code",
   "execution_count": 33,
   "metadata": {},
   "outputs": [],
   "source": [
    "from keras.layers import Conv1D, GRU, Dense, Dropout, Flatten, MaxPooling1D, Conv2D, MaxPooling2D, LSTM, Bidirectional, Reshape, Permute\n",
    "from keras.layers.normalization import BatchNormalization\n",
    "# from keras.models import Model\n",
    "from keras import models\n",
    "from keras import layers\n",
    "from keras.optimizers import Adam\n",
    "import librosa\n",
    "from librosa import display\n",
    "from pydub import AudioSegment as aus\n",
    "import audiosegment as aud\n",
    "import matplotlib.pyplot as plt\n",
    "import numpy as np\n",
    "from matplotlib.backends.backend_agg import FigureCanvasAgg as FigureCanvas\n",
    "import random\n",
    "import os\n",
    "from sklearn.utils import shuffle\n",
    "from keras import regularizers\n",
    "import audiosegment as aud\n",
    "from sklearn.metrics import accuracy_score\n",
    "from keras.models import load_model\n",
    "import keras\n",
    "from keras.utils import CustomObjectScope\n",
    "from keras.initializers import glorot_uniform\n",
    "import h5py\n",
    "from keras import models\n",
    "import tensorflow as tf"
   ]
  },
  {
   "cell_type": "code",
   "execution_count": 2,
   "metadata": {},
   "outputs": [],
   "source": [
    "extra_data_path_0 = '/home/anton/Documents/extra_data/0/'\n",
    "extra_data_path_1 = '/home/anton/Documents/extra_data/1/'\n",
    "data_path_0 = '/home/anton/Documents/command_data/0/'\n",
    "data_path_1 = '/home/anton/Documents/command_data/1/'\n",
    "new_data_path_0 = '/home/anton/Documents/new_command_data/0/'\n",
    "new_data_path_1 = '/home/anton/Documents/new_command_data/1/'"
   ]
  },
  {
   "cell_type": "code",
   "execution_count": 3,
   "metadata": {},
   "outputs": [],
   "source": [
    "def build_model(data_shape):\n",
    "    model = models.Sequential()\n",
    "#     model.add(Input(shape = (data_shape[0], data_shape[1], data_shape[2], )))\n",
    "    model.add(Conv2D(filters=128, kernel_size=(3, 3), padding='same', activation='relu', input_shape=(data_shape[0], data_shape[1], data_shape[2], ),  kernel_regularizer=regularizers.l2(0.0005)))\n",
    "    model.add(layers.BatchNormalization())\n",
    "    model.add(layers.MaxPooling2D((1, 5)))\n",
    "    model.add(layers.Dropout(0.8))\n",
    "    model.add(Conv2D(filters=128, kernel_size=(3, 3), padding='same', activation='relu',  kernel_regularizer=regularizers.l2(0.0005)))\n",
    "    model.add(layers.BatchNormalization())\n",
    "    model.add(layers.MaxPooling2D((1, 2)))\n",
    "    model.add(layers.Dropout(0.8))\n",
    "    model.add(Conv2D(filters=128, kernel_size=(3, 3), padding='same', activation='relu',  kernel_regularizer=regularizers.l2(0.0005)))\n",
    "    model.add(layers.BatchNormalization())\n",
    "    model.add(layers.MaxPooling2D((1, 2)))\n",
    "    model.add(layers.Dropout(0.8))\n",
    "    model.add(Permute((2, 1, 3)))\n",
    "    model.add(Reshape((data_shape[0], -1)))\n",
    "    model.add(Bidirectional(\n",
    "            LSTM(32, activation='tanh', dropout=0.05, recurrent_dropout=0.05, return_sequences=True),\n",
    "            merge_mode='mul'))\n",
    "    model.add(Bidirectional(\n",
    "            LSTM(32, activation='tanh', dropout=0.05, recurrent_dropout=0.05, return_sequences=True),\n",
    "            merge_mode='mul'))\n",
    "    model.add(layers.Flatten())\n",
    "    model.add(layers.Dense(64, activation='relu',  kernel_regularizer=regularizers.l2(0.0005)))\n",
    "    model.add(layers.Dense(32, activation='relu',  kernel_regularizer=regularizers.l2(0.0005)))\n",
    "    model.add(layers.Dense(2, activation='sigmoid'))\n",
    "    model.compile(optimizer='Adam', loss='binary_crossentropy', metrics=['acc'])\n",
    "    return model"
   ]
  },
  {
   "cell_type": "code",
   "execution_count": 4,
   "metadata": {},
   "outputs": [],
   "source": [
    "def model(input_shape):\n",
    "    \n",
    "    model = models.Sequential()\n",
    "    \n",
    "    model.add(Conv1D(128, kernel_size=16, strides=4, activation='relu', input_shape=input_shape))\n",
    "    model.add(BatchNormalization())\n",
    "    model.add(MaxPooling1D(5))\n",
    "    model.add(Dropout(0.8))\n",
    "    \n",
    "#     model.add(Conv1D(128, kernel_size=16, strides=4, activation='relu', input_shape=input_shape))\n",
    "#     model.add(BatchNormalization())\n",
    "#     model.add(MaxPooling1D(3))\n",
    "#     model.add(Dropout(0.8))\n",
    "    \n",
    "#     model.add(Conv1D(128, kernel_size=16, strides=4, activation='relu', input_shape=input_shape))\n",
    "#     model.add(BatchNormalization())\n",
    "#     model.add(MaxPooling1D(2))\n",
    "#     model.add(Dropout(0.8))\n",
    "\n",
    "    model.add(GRU(units = 128, return_sequences = True))\n",
    "    model.add(Dropout(0.8))\n",
    "    model.add(BatchNormalization())\n",
    "    \n",
    "    model.add(GRU(units = 128, return_sequences = True))\n",
    "    model.add(Dropout(0.8))\n",
    "    model.add(BatchNormalization())\n",
    "    \n",
    "    model.add(GRU(units = 128, return_sequences = True))\n",
    "    model.add(Dropout(0.8))\n",
    "    model.add(BatchNormalization())\n",
    "    model.add(Dropout(0.8))\n",
    "    model.add(Flatten())\n",
    "    \n",
    "    model.add(layers.Dense(64, activation='relu',  kernel_regularizer=regularizers.l2(0.0005)))\n",
    "    model.add(layers.Dense(32, activation='relu',  kernel_regularizer=regularizers.l2(0.0005)))\n",
    "    model.add(Dense(2, activation = \"sigmoid\"))\n",
    "    opt = Adam(lr=0.0001, beta_1=0.9, beta_2=0.999, decay=0.01)\n",
    "    model.compile(loss='binary_crossentropy', optimizer=opt, metrics=[\"accuracy\"])\n",
    "    return model  "
   ]
  },
  {
   "cell_type": "code",
   "execution_count": 5,
   "metadata": {},
   "outputs": [],
   "source": [
    "def audiosegment_to_ndarray(audiosegment):\n",
    "    samples = audiosegment.get_array_of_samples()\n",
    "    samples_float = librosa.util.buf_to_float(samples,n_bytes=2,\n",
    "                                      dtype=np.float32)\n",
    "    if audiosegment.channels==2:\n",
    "        sample_left= np.copy(samples_float[::2])\n",
    "        sample_right= np.copy(samples_float[1::2])\n",
    "        sample_all = np.array([sample_left,sample_right])\n",
    "    else:\n",
    "        sample_all = samples_float\n",
    "    spec = librosa.feature.melspectrogram(y=sample_all, sr=audiosegment.frame_rate)\n",
    "        \n",
    "    return spec"
   ]
  },
  {
   "cell_type": "code",
   "execution_count": 6,
   "metadata": {},
   "outputs": [],
   "source": [
    "X_train = []\n",
    "y_train = []\n",
    "X_validation = []\n",
    "y_validation = []"
   ]
  },
  {
   "cell_type": "code",
   "execution_count": 3,
   "metadata": {},
   "outputs": [],
   "source": [
    "names = []\n",
    "borders = []\n",
    "f = open('labels.txt')\n",
    "lines = f.readlines()\n",
    "for line in lines:\n",
    "    line_list = line.split(' ')\n",
    "    names.append(line_list[0])\n",
    "    borders.append([line_list[1], line_list[2][:-1]])\n",
    "border_dict = dict(zip(names, borders))\n",
    "f.close()"
   ]
  },
  {
   "cell_type": "code",
   "execution_count": 4,
   "metadata": {},
   "outputs": [],
   "source": [
    "new_names = []\n",
    "new_borders = []\n",
    "f = open('new_labels.txt')\n",
    "lines = f.readlines()\n",
    "for line in lines:\n",
    "    line_list = line.split(' ')\n",
    "    new_names.append(line_list[0])\n",
    "    new_borders.append([line_list[1], line_list[2][:-1]])\n",
    "new_border_dict = dict(zip(new_names, new_borders))\n",
    "f.close()"
   ]
  },
  {
   "cell_type": "code",
   "execution_count": 9,
   "metadata": {},
   "outputs": [],
   "source": [
    "for i in range(1000):\n",
    "    sound = aud.from_file(data_path_1 + str(i) + '.wav').resample(sample_rate_Hz=32000, sample_width=2, channels=1)\n",
    "    \n",
    "    key_sound = sound[int(border_dict[str(i) + '.wav'][0]) : int(border_dict[str(i) + '.wav'][0]) + 1000]\n",
    "    key_spect = audiosegment_to_ndarray(key_sound)\n",
    "    X_train.append(key_spect.reshape(key_spect.shape[0], key_spect.shape[1], 1))\n",
    "    y_train.append(1)\n",
    "    \n",
    "    key_sound = sound[int(border_dict[str(i) + '.wav'][0]) - 100 : int(border_dict[str(i) + '.wav'][0]) + 900]\n",
    "    key_spect = audiosegment_to_ndarray(key_sound)\n",
    "    X_train.append(key_spect.reshape(key_spect.shape[0], key_spect.shape[1], 1))\n",
    "    y_train.append(1)\n",
    "    \n",
    "    key_sound = sound[int(border_dict[str(i) + '.wav'][0]) + 100 : int(border_dict[str(i) + '.wav'][0]) + 1100]\n",
    "    key_spect = audiosegment_to_ndarray(key_sound)\n",
    "    X_train.append(key_spect.reshape(key_spect.shape[0], key_spect.shape[1], 1))\n",
    "    y_train.append(1)\n",
    "    \n",
    "    down_bord = 0\n",
    "    up_bord = 0\n",
    "    while True:\n",
    "        down_bord = random.randint(0, len(sound) - 2000)\n",
    "        if (down_bord + 1000 < int(border_dict[str(i) + '.wav'][0])) or (down_bord > int(border_dict[str(i) + '.wav'][0]) + 1000):\n",
    "            break\n",
    "    up_bord = down_bord + 1000\n",
    "    other_sound = sound[down_bord : up_bord]\n",
    "    other_spect = audiosegment_to_ndarray(other_sound)\n",
    "    X_train.append(other_spect.reshape(other_spect.shape[0], other_spect.shape[1], 1))\n",
    "    y_train.append(0)"
   ]
  },
  {
   "cell_type": "code",
   "execution_count": 10,
   "metadata": {},
   "outputs": [],
   "source": [
    "for i in range(1000):\n",
    "    sound = aud.from_file(data_path_0 + str(i) + '.wav').resample(sample_rate_Hz=32000, sample_width=2, channels=1)\n",
    "    \n",
    "    other_sound = sound[ : 1000]\n",
    "    other_spect = audiosegment_to_ndarray(other_sound)\n",
    "    X_train.append(other_spect.reshape(other_spect.shape[0], other_spect.shape[1], 1))\n",
    "    y_train.append(0)\n",
    "    \n",
    "    other_sound = sound[1000 : 2000]\n",
    "    other_spect = audiosegment_to_ndarray(other_sound)\n",
    "    X_train.append(other_spect.reshape(other_spect.shape[0], other_spect.shape[1], 1))\n",
    "    y_train.append(0)"
   ]
  },
  {
   "cell_type": "code",
   "execution_count": 11,
   "metadata": {},
   "outputs": [],
   "source": [
    "for i in range(2000):\n",
    "    sound = aud.from_file(new_data_path_1 + str(i) + '.wav').resample(sample_rate_Hz=32000, sample_width=2, channels=1)\n",
    "    \n",
    "    key_sound = sound[int(new_border_dict[str(i) + '.wav'][0]) : int(new_border_dict[str(i) + '.wav'][0]) + 1000]\n",
    "    key_spect = audiosegment_to_ndarray(key_sound)\n",
    "    X_train.append(key_spect.reshape(key_spect.shape[0], key_spect.shape[1], 1))\n",
    "    y_train.append(1)\n",
    "    \n",
    "    if int(new_border_dict[str(i) + '.wav'][0]) - 100 >= 0:\n",
    "        key_sound = sound[int(new_border_dict[str(i) + '.wav'][0]) - 100 : int(new_border_dict[str(i) + '.wav'][0]) + 900]\n",
    "        key_spect = audiosegment_to_ndarray(key_sound)\n",
    "        X_train.append(key_spect.reshape(key_spect.shape[0], key_spect.shape[1], 1))\n",
    "        y_train.append(1)\n",
    "        \n",
    "    if int(new_border_dict[str(i) + '.wav'][0]) + 1100 <= len(sound):\n",
    "        key_sound = sound[int(new_border_dict[str(i) + '.wav'][0]) + 100 : int(new_border_dict[str(i) + '.wav'][0]) + 1100]\n",
    "        key_spect = audiosegment_to_ndarray(key_sound)\n",
    "        X_train.append(key_spect.reshape(key_spect.shape[0], key_spect.shape[1], 1))\n",
    "        y_train.append(1)\n",
    "    \n",
    "    down_bord = 0\n",
    "    up_bord = 0\n",
    "    while True:\n",
    "        down_bord = random.randint(0, len(sound) - 1100)\n",
    "        if (down_bord + 1000 < int(new_border_dict[str(i) + '.wav'][0])) or (down_bord > int(new_border_dict[str(i) + '.wav'][0]) + 1000):\n",
    "            break\n",
    "    up_bord = down_bord + 1000\n",
    "    other_sound = sound[down_bord : up_bord]\n",
    "    other_spect = audiosegment_to_ndarray(other_sound)\n",
    "    X_train.append(other_spect.reshape(other_spect.shape[0], other_spect.shape[1], 1))\n",
    "    y_train.append(0)"
   ]
  },
  {
   "cell_type": "code",
   "execution_count": 12,
   "metadata": {},
   "outputs": [],
   "source": [
    "for i in range(2000):\n",
    "    sound = aud.from_file(new_data_path_0 + str(i) + '.wav').resample(sample_rate_Hz=32000, sample_width=2, channels=1)\n",
    "    \n",
    "    other_sound = sound[ : 1000]\n",
    "    other_spect = audiosegment_to_ndarray(other_sound)\n",
    "    X_train.append(other_spect.reshape(other_spect.shape[0], other_spect.shape[1], 1))\n",
    "    y_train.append(0)\n",
    "    \n",
    "    other_sound = sound[1000 : 2000]\n",
    "    other_spect = audiosegment_to_ndarray(other_sound)\n",
    "    X_train.append(other_spect.reshape(other_spect.shape[0], other_spect.shape[1], 1))\n",
    "    y_train.append(0)"
   ]
  },
  {
   "cell_type": "code",
   "execution_count": 13,
   "metadata": {},
   "outputs": [],
   "source": [
    "for i, s in enumerate(os.listdir(extra_data_path_0)):\n",
    "    sound = aud.from_file(extra_data_path_0 + s).resample(sample_rate_Hz=32000, sample_width=2, channels=1)\n",
    "    \n",
    "    if len(sound) >= 1000:\n",
    "        key_sound = sound[:1000]\n",
    "        key_spect = audiosegment_to_ndarray(key_sound)\n",
    "        X_train.append(key_spect.reshape(key_spect.shape[0], key_spect.shape[1], 1))\n",
    "        y_train.append(0) "
   ]
  },
  {
   "cell_type": "code",
   "execution_count": 14,
   "metadata": {},
   "outputs": [],
   "source": [
    "for i, s in enumerate(os.listdir(extra_data_path_1)):\n",
    "    sound = aud.from_file(extra_data_path_1 + s).resample(sample_rate_Hz=32000, sample_width=2, channels=1)\n",
    "    \n",
    "    if len(sound) >= 1000:\n",
    "        key_sound = sound[:1000]\n",
    "        key_spect = audiosegment_to_ndarray(key_sound)\n",
    "        X_train.append(key_spect.reshape(key_spect.shape[0], key_spect.shape[1], 1))\n",
    "        y_train.append(1) "
   ]
  },
  {
   "cell_type": "code",
   "execution_count": 15,
   "metadata": {},
   "outputs": [],
   "source": [
    "for i in range(1000, 1500):\n",
    "    sound = aud.from_file(data_path_1 + str(i) + '.wav').resample(sample_rate_Hz=32000, sample_width=2, channels=1)\n",
    "    \n",
    "    key_sound = sound[int(border_dict[str(i) + '.wav'][0]) : int(border_dict[str(i) + '.wav'][0]) + 1000]\n",
    "    key_spect = audiosegment_to_ndarray(key_sound)\n",
    "    X_validation.append(key_spect.reshape(key_spect.shape[0], key_spect.shape[1], 1))\n",
    "    y_validation.append(1)\n",
    "    \n",
    "    key_sound = sound[int(border_dict[str(i) + '.wav'][0]) - 100 : int(border_dict[str(i) + '.wav'][0]) + 900]\n",
    "    key_spect = audiosegment_to_ndarray(key_sound)\n",
    "    X_validation.append(key_spect.reshape(key_spect.shape[0], key_spect.shape[1], 1))\n",
    "    y_validation.append(1)\n",
    "    \n",
    "    key_sound = sound[int(border_dict[str(i) + '.wav'][0]) + 100 : int(border_dict[str(i) + '.wav'][0]) + 1100]\n",
    "    key_spect = audiosegment_to_ndarray(key_sound)\n",
    "    X_validation.append(key_spect.reshape(key_spect.shape[0], key_spect.shape[1], 1))\n",
    "    y_validation.append(1)\n",
    "    \n",
    "    down_bord = 0\n",
    "    up_bord = 0\n",
    "    while True:\n",
    "        down_bord = random.randint(0, len(sound) - 2000)\n",
    "        if (down_bord + 1000 < int(border_dict[str(i) + '.wav'][0])) or (down_bord > int(border_dict[str(i) + '.wav'][0]) + 1000):\n",
    "            break\n",
    "    up_bord = down_bord + 1000\n",
    "    other_sound = sound[down_bord : up_bord]\n",
    "    other_spect = audiosegment_to_ndarray(other_sound)\n",
    "    X_validation.append(other_spect.reshape(other_spect.shape[0], other_spect.shape[1], 1))\n",
    "    y_validation.append(0)"
   ]
  },
  {
   "cell_type": "code",
   "execution_count": 16,
   "metadata": {},
   "outputs": [],
   "source": [
    "for i in range(1000, 1500):\n",
    "    sound = aud.from_file(data_path_0 + str(i) + '.wav').resample(sample_rate_Hz=32000, sample_width=2, channels=1)\n",
    "    \n",
    "    other_sound = sound[:1000]\n",
    "    other_spect = audiosegment_to_ndarray(other_sound)\n",
    "    X_validation.append(other_spect.reshape(other_spect.shape[0], other_spect.shape[1], 1))\n",
    "    y_validation.append(0)\n",
    "    \n",
    "    other_sound = sound[1000:2000]\n",
    "    other_spect = audiosegment_to_ndarray(other_sound)\n",
    "    X_validation.append(other_spect.reshape(other_spect.shape[0], other_spect.shape[1], 1))\n",
    "    y_validation.append(0)"
   ]
  },
  {
   "cell_type": "code",
   "execution_count": 17,
   "metadata": {},
   "outputs": [],
   "source": [
    "for i in range(2000, 2500):\n",
    "    sound = aud.from_file(new_data_path_1 + str(i) + '.wav').resample(sample_rate_Hz=32000, sample_width=2, channels=1)\n",
    "    \n",
    "    key_sound = sound[int(new_border_dict[str(i) + '.wav'][0]) : int(new_border_dict[str(i) + '.wav'][0]) + 1000]\n",
    "    key_spect = audiosegment_to_ndarray(key_sound)\n",
    "    X_validation.append(key_spect)\n",
    "    y_validation.append(1)\n",
    "    \n",
    "    if int(new_border_dict[str(i) + '.wav'][0]) - 100 >= 0:\n",
    "        key_sound = sound[int(new_border_dict[str(i) + '.wav'][0]) - 100 : int(new_border_dict[str(i) + '.wav'][0]) + 900]\n",
    "        key_spect = audiosegment_to_ndarray(key_sound)\n",
    "        X_validation.append(key_spect.reshape(key_spect.shape[0], key_spect.shape[1], 1))\n",
    "        y_validation.append(1)\n",
    "        \n",
    "    if int(new_border_dict[str(i) + '.wav'][0]) + 1100 <= len(sound):\n",
    "        key_sound = sound[int(new_border_dict[str(i) + '.wav'][0]) + 100 : int(new_border_dict[str(i) + '.wav'][0]) + 1100]\n",
    "        key_spect = audiosegment_to_ndarray(key_sound)\n",
    "        X_validation.append(key_spect.reshape(key_spect.shape[0], key_spect.shape[1], 1))\n",
    "        y_validation.append(1)\n",
    "    \n",
    "    down_bord = 0\n",
    "    up_bord = 0\n",
    "    while True:\n",
    "        down_bord = random.randint(0, len(sound) - 1100)\n",
    "        if (down_bord + 1000 < int(new_border_dict[str(i) + '.wav'][0])) or (down_bord > int(new_border_dict[str(i) + '.wav'][0]) + 1000):\n",
    "            break\n",
    "    up_bord = down_bord + 1000\n",
    "    other_sound = sound[down_bord : up_bord]\n",
    "    other_spect = audiosegment_to_ndarray(other_sound)\n",
    "    X_validation.append(other_spect.reshape(other_spect.shape[0], other_spect.shape[1], 1))\n",
    "    y_validation.append(0)"
   ]
  },
  {
   "cell_type": "code",
   "execution_count": 18,
   "metadata": {},
   "outputs": [],
   "source": [
    "for i in range(2000, 2500):\n",
    "    sound = aud.from_file(new_data_path_0 + str(i) + '.wav').resample(sample_rate_Hz=32000, sample_width=2, channels=1)\n",
    "    \n",
    "    other_sound = sound[ : 1000]\n",
    "    other_spect = audiosegment_to_ndarray(other_sound)\n",
    "    X_validation.append(other_spect.reshape(other_spect.shape[0], other_spect.shape[1], 1))\n",
    "    y_validation.append(0)\n",
    "    \n",
    "    other_sound = sound[1000 : 2000]\n",
    "    other_spect = audiosegment_to_ndarray(other_sound)\n",
    "    X_validation.append(other_spect.reshape(other_spect.shape[0], other_spect.shape[1], 1))\n",
    "    y_validation.append(0)"
   ]
  },
  {
   "cell_type": "code",
   "execution_count": 19,
   "metadata": {},
   "outputs": [],
   "source": [
    "X_train, y_train = shuffle(X_train, y_train, random_state=0)\n",
    "X_validation, y_validation = shuffle(X_validation, y_validation, random_state=0)\n",
    "y_train = [[0, 1] if i == 1 else [1, 0] for i in y_train]\n",
    "y_validation = [[0, 1] if i == 1 else [1, 0] for i in y_validation]"
   ]
  },
  {
   "cell_type": "code",
   "execution_count": 24,
   "metadata": {},
   "outputs": [
    {
     "name": "stdout",
     "output_type": "stream",
     "text": [
      "WARNING:tensorflow:Large dropout rate: 0.8 (>0.5). In TensorFlow 2.x, dropout() uses dropout rate instead of keep_prob. Please ensure that this is intended.\n",
      "WARNING:tensorflow:Large dropout rate: 0.8 (>0.5). In TensorFlow 2.x, dropout() uses dropout rate instead of keep_prob. Please ensure that this is intended.\n"
     ]
    }
   ],
   "source": [
    "model = build_model(X_train[0].shape)"
   ]
  },
  {
   "cell_type": "code",
   "execution_count": 21,
   "metadata": {},
   "outputs": [
    {
     "data": {
      "text/plain": [
       "(23410, 128, 63, 1)"
      ]
     },
     "execution_count": 21,
     "metadata": {},
     "output_type": "execute_result"
    }
   ],
   "source": [
    "np.array(X_train).shape"
   ]
  },
  {
   "cell_type": "code",
   "execution_count": 22,
   "metadata": {},
   "outputs": [],
   "source": [
    "for i, x in enumerate(X_validation):\n",
    "    X_validation[i] = x.reshape(x.shape[0], x.shape[1], 1)"
   ]
  },
  {
   "cell_type": "code",
   "execution_count": 25,
   "metadata": {},
   "outputs": [
    {
     "name": "stdout",
     "output_type": "stream",
     "text": [
      "Train on 23410 samples, validate on 5964 samples\n",
      "Epoch 1/8\n",
      "23410/23410 [==============================] - 2254s 96ms/step - loss: 0.5559 - acc: 0.7411 - val_loss: 0.6260 - val_acc: 0.7500\n",
      "Epoch 2/8\n",
      "23410/23410 [==============================] - 4004s 171ms/step - loss: 0.4689 - acc: 0.8479 - val_loss: 0.7676 - val_acc: 0.5395\n",
      "Epoch 3/8\n",
      "23410/23410 [==============================] - 2075s 89ms/step - loss: 0.4465 - acc: 0.8771 - val_loss: 0.4416 - val_acc: 0.8784\n",
      "Epoch 4/8\n",
      "23410/23410 [==============================] - 2180s 93ms/step - loss: 0.4300 - acc: 0.8895 - val_loss: 0.4292 - val_acc: 0.8892\n",
      "Epoch 5/8\n",
      "23410/23410 [==============================] - 2167s 93ms/step - loss: 0.4069 - acc: 0.9010 - val_loss: 0.4208 - val_acc: 0.8918\n",
      "Epoch 6/8\n",
      "23410/23410 [==============================] - 2168s 93ms/step - loss: 0.3944 - acc: 0.9054 - val_loss: 0.4276 - val_acc: 0.8893\n",
      "Epoch 7/8\n",
      "23410/23410 [==============================] - 2182s 93ms/step - loss: 0.3833 - acc: 0.9088 - val_loss: 0.4377 - val_acc: 0.8871\n",
      "Epoch 8/8\n",
      "23410/23410 [==============================] - 2110s 90ms/step - loss: 0.3740 - acc: 0.9166 - val_loss: 0.4034 - val_acc: 0.9010\n"
     ]
    }
   ],
   "source": [
    "history = model.fit(np.array(X_train), np.array(y_train), epochs=8, batch_size=64, validation_data=(np.array(X_validation), np.array(y_validation)))"
   ]
  },
  {
   "cell_type": "code",
   "execution_count": 26,
   "metadata": {},
   "outputs": [],
   "source": [
    "model.save('final_model.h5')"
   ]
  },
  {
   "cell_type": "code",
   "execution_count": 27,
   "metadata": {},
   "outputs": [
    {
     "data": {
      "image/png": "[encoded data removed]",
      "text/plain": [
       "<Figure size 432x288 with 1 Axes>"
      ]
     },
     "metadata": {
      "needs_background": "light"
     },
     "output_type": "display_data"
    },
    {
     "data": {
      "image/png": "[encoded data removed]",
      "text/plain": [
       "<Figure size 432x288 with 1 Axes>"
      ]
     },
     "metadata": {
      "needs_background": "light"
     },
     "output_type": "display_data"
    }
   ],
   "source": [
    "plt.plot(history.history['acc'], 'bo', label='Training acc')\n",
    "plt.plot(history.history['val_acc'], 'b', label='Validation acc')\n",
    "plt.title('Training and validation accuracy')\n",
    "plt.legend()\n",
    "plt.figure()\n",
    "plt.plot(history.history['loss'], 'bo', label='Training loss')\n",
    "plt.plot(history.history['val_loss'], 'b', label='Validation loss')\n",
    "plt.title('Training and validation loss')\n",
    "plt.legend()\n",
    "plt.show()"
   ]
  },
  {
   "cell_type": "code",
   "execution_count": 5,
   "metadata": {},
   "outputs": [],
   "source": [
    "test_0 = '/home/anton/Documents/test/0/'\n",
    "test_1 = '/home/anton/Documents/test/1/'\n",
    "new_test_0 = '/home/anton/Documents/new_test/0/'\n",
    "new_test_1 = '/home/anton/Documents/new_test/1/'"
   ]
  },
  {
   "cell_type": "code",
   "execution_count": 8,
   "metadata": {},
   "outputs": [],
   "source": [
    "test_sounds = []\n",
    "test_labels = []\n",
    "label_file = []\n",
    "test_names = []"
   ]
  },
  {
   "cell_type": "code",
   "execution_count": 9,
   "metadata": {},
   "outputs": [],
   "source": [
    "for s in os.listdir(test_0):\n",
    "    test_sounds.append(aud.from_file(test_0 + s).resample(sample_rate_Hz=16000, sample_width=2, channels=1))\n",
    "    test_labels.append(0)\n",
    "    label_file.append('o')\n",
    "    test_names.append(s)"
   ]
  },
  {
   "cell_type": "code",
   "execution_count": 10,
   "metadata": {},
   "outputs": [],
   "source": [
    "for s in os.listdir(test_1):\n",
    "    test_sounds.append(aud.from_file(test_1 + s).resample(sample_rate_Hz=16000, sample_width=2, channels=1))\n",
    "    test_labels.append(1)\n",
    "    label_file.append('o')\n",
    "    test_names.append(s)"
   ]
  },
  {
   "cell_type": "code",
   "execution_count": 11,
   "metadata": {},
   "outputs": [],
   "source": [
    "for s in os.listdir(new_test_0):\n",
    "    test_sounds.append(aud.from_file(new_test_0 + s).resample(sample_rate_Hz=16000, sample_width=2, channels=1))\n",
    "    test_labels.append(0)\n",
    "    label_file.append('n')\n",
    "    test_names.append(s)"
   ]
  },
  {
   "cell_type": "code",
   "execution_count": 12,
   "metadata": {},
   "outputs": [],
   "source": [
    "for s in os.listdir(new_test_1):\n",
    "    test_sounds.append(aud.from_file(new_test_1 + s).resample(sample_rate_Hz=16000, sample_width=2, channels=1))\n",
    "    test_labels.append(1)\n",
    "    label_file.append('n')\n",
    "    test_names.append(s)"
   ]
  },
  {
   "cell_type": "code",
   "execution_count": 13,
   "metadata": {},
   "outputs": [],
   "source": [
    "test_sounds, test_labels, label_file, test_names = shuffle(test_sounds, test_labels, label_file, test_names, random_state=0)"
   ]
  },
  {
   "cell_type": "code",
   "execution_count": 34,
   "metadata": {},
   "outputs": [
    {
     "name": "stdout",
     "output_type": "stream",
     "text": [
      "WARNING:tensorflow:From /home/anton/study_env/lib/python3.6/site-packages/tensorflow/python/ops/init_ops.py:97: calling GlorotUniform.__init__ (from tensorflow.python.ops.init_ops) with dtype is deprecated and will be removed in a future version.\n",
      "Instructions for updating:\n",
      "Call initializer instance with the dtype argument instead of passing it to the constructor\n",
      "WARNING:tensorflow:From /home/anton/study_env/lib/python3.6/site-packages/tensorflow/python/ops/init_ops.py:1251: calling VarianceScaling.__init__ (from tensorflow.python.ops.init_ops) with dtype is deprecated and will be removed in a future version.\n",
      "Instructions for updating:\n",
      "Call initializer instance with the dtype argument instead of passing it to the constructor\n",
      "WARNING:tensorflow:From /home/anton/study_env/lib/python3.6/site-packages/tensorflow/python/ops/init_ops.py:97: calling Orthogonal.__init__ (from tensorflow.python.ops.init_ops) with dtype is deprecated and will be removed in a future version.\n",
      "Instructions for updating:\n",
      "Call initializer instance with the dtype argument instead of passing it to the constructor\n",
      "WARNING:tensorflow:From /home/anton/study_env/lib/python3.6/site-packages/tensorflow/python/ops/init_ops.py:97: calling Zeros.__init__ (from tensorflow.python.ops.init_ops) with dtype is deprecated and will be removed in a future version.\n",
      "Instructions for updating:\n",
      "Call initializer instance with the dtype argument instead of passing it to the constructor\n",
      "WARNING:tensorflow:From /home/anton/study_env/lib/python3.6/site-packages/tensorflow/python/ops/math_grad.py:1250: add_dispatch_support.<locals>.wrapper (from tensorflow.python.ops.array_ops) is deprecated and will be removed in a future version.\n",
      "Instructions for updating:\n",
      "Use tf.where in 2.0, which has the same broadcast rule as np.where\n"
     ]
    }
   ],
   "source": [
    "model = tf.keras.models.load_wei('av_model.h5')"
   ]
  },
  {
   "cell_type": "code",
   "execution_count": 24,
   "metadata": {},
   "outputs": [],
   "source": [
    "model = h5py.File('av_model.h5', 'r')\n",
    "# print(f.attrs.get('keras_version'))"
   ]
  },
  {
   "cell_type": "code",
   "execution_count": 28,
   "metadata": {},
   "outputs": [],
   "source": [
    "sample_rate = 16000"
   ]
  },
  {
   "cell_type": "code",
   "execution_count": 26,
   "metadata": {},
   "outputs": [],
   "source": [
    "def audiosegment_to_ndarray(audiosegment):\n",
    "    samples = audiosegment.get_array_of_samples()\n",
    "    audio_signal = librosa.util.buf_to_float(samples,n_bytes=2,\n",
    "                                      dtype=np.float32)\n",
    "    \n",
    "    audio_signal = audio_signal/np.amax(audio_signal)\n",
    "    zcr_signal = librosa.feature.zero_crossing_rate(audio_signal, frame_length=512, hop_length=410) #(1,32)\n",
    "    mfcc_signal = librosa.feature.mfcc(audio_signal,sample_rate, n_fft=1024, hop_length=410) # (20,32)\n",
    "    centr_signal = librosa.feature.spectral_centroid(audio_signal, sample_rate, n_fft=1024, hop_length=410)# (1,32)\n",
    "    rolloff_signal = librosa.feature.spectral_rolloff(audio_signal,n_fft=1024, hop_length=410) # (1,32)\n",
    "    # get features matrix by concatenating all features\n",
    "    features_mat = np.concatenate((zcr_signal, mfcc_signal, centr_signal, rolloff_signal), axis=0)\n",
    "    return features_mat"
   ]
  },
  {
   "cell_type": "code",
   "execution_count": 38,
   "metadata": {
    "scrolled": true
   },
   "outputs": [
    {
     "name": "stdout",
     "output_type": "stream",
     "text": [
      "3613.wav\n",
      "0\n",
      "31\n"
     ]
    },
    {
     "data": {
      "image/png": "[encoded data removed]",
      "text/plain": [
       "<Figure size 432x288 with 1 Axes>"
      ]
     },
     "metadata": {
      "needs_background": "light"
     },
     "output_type": "display_data"
    },
    {
     "name": "stdout",
     "output_type": "stream",
     "text": [
      "1992.wav\n",
      "1\n",
      "95\n"
     ]
    },
    {
     "data": {
      "image/png": "[encoded data removed]",
      "text/plain": [
       "<Figure size 432x288 with 1 Axes>"
      ]
     },
     "metadata": {
      "needs_background": "light"
     },
     "output_type": "display_data"
    },
    {
     "name": "stdout",
     "output_type": "stream",
     "text": [
      "2035.wav\n",
      "2\n",
      "90\n"
     ]
    },
    {
     "data": {
      "image/png": "[encoded data removed]",
      "text/plain": [
       "<Figure size 432x288 with 1 Axes>"
      ]
     },
     "metadata": {
      "needs_background": "light"
     },
     "output_type": "display_data"
    },
    {
     "name": "stdout",
     "output_type": "stream",
     "text": [
      "1973.wav\n",
      "3\n",
      "41\n"
     ]
    },
    {
     "data": {
      "image/png": "[encoded data removed]",
      "text/plain": [
       "<Figure size 432x288 with 1 Axes>"
      ]
     },
     "metadata": {
      "needs_background": "light"
     },
     "output_type": "display_data"
    },
    {
     "name": "stdout",
     "output_type": "stream",
     "text": [
      "2922.wav\n",
      "4\n",
      "38\n"
     ]
    },
    {
     "data": {
      "image/png": "[encoded data removed]",
      "text/plain": [
       "<Figure size 432x288 with 1 Axes>"
      ]
     },
     "metadata": {
      "needs_background": "light"
     },
     "output_type": "display_data"
    },
    {
     "name": "stdout",
     "output_type": "stream",
     "text": [
      "2007.wav\n",
      "5\n",
      "181\n"
     ]
    },
    {
     "data": {
      "image/png": "[encoded data removed]",
      "text/plain": [
       "<Figure size 432x288 with 1 Axes>"
      ]
     },
     "metadata": {
      "needs_background": "light"
     },
     "output_type": "display_data"
    },
    {
     "name": "stdout",
     "output_type": "stream",
     "text": [
      "2939.wav\n",
      "6\n",
      "45\n"
     ]
    },
    {
     "data": {
      "image/png": "[encoded data removed]",
      "text/plain": [
       "<Figure size 432x288 with 1 Axes>"
      ]
     },
     "metadata": {
      "needs_background": "light"
     },
     "output_type": "display_data"
    },
    {
     "name": "stdout",
     "output_type": "stream",
     "text": [
      "2950.wav\n",
      "7\n",
      "54\n"
     ]
    },
    {
     "data": {
      "image/png": "[encoded data removed]",
      "text/plain": [
       "<Figure size 432x288 with 1 Axes>"
      ]
     },
     "metadata": {
      "needs_background": "light"
     },
     "output_type": "display_data"
    },
    {
     "name": "stdout",
     "output_type": "stream",
     "text": [
      "3665.wav\n"
     ]
    },
    {
     "ename": "KeyboardInterrupt",
     "evalue": "",
     "output_type": "error",
     "traceback": [
      "\u001b[0;31m---------------------------------------------------------------------------\u001b[0m",
      "\u001b[0;31mKeyboardInterrupt\u001b[0m                         Traceback (most recent call last)",
      "\u001b[0;32m<ipython-input-38-b50e1cf961a2>\u001b[0m in \u001b[0;36m<module>\u001b[0;34m\u001b[0m\n\u001b[1;32m     30\u001b[0m             \u001b[0mreal_values\u001b[0m\u001b[0;34m[\u001b[0m\u001b[0mk\u001b[0m\u001b[0;34m]\u001b[0m \u001b[0;34m=\u001b[0m \u001b[0;36m1\u001b[0m\u001b[0;34m\u001b[0m\u001b[0;34m\u001b[0m\u001b[0m\n\u001b[1;32m     31\u001b[0m         \u001b[0;32mfor\u001b[0m \u001b[0mj\u001b[0m \u001b[0;32min\u001b[0m \u001b[0mrange\u001b[0m\u001b[0;34m(\u001b[0m\u001b[0;36m0\u001b[0m\u001b[0;34m,\u001b[0m \u001b[0mlen\u001b[0m\u001b[0;34m(\u001b[0m\u001b[0ms\u001b[0m\u001b[0;34m)\u001b[0m \u001b[0;34m-\u001b[0m \u001b[0;36m1000\u001b[0m\u001b[0;34m,\u001b[0m \u001b[0;36m50\u001b[0m\u001b[0;34m)\u001b[0m\u001b[0;34m:\u001b[0m\u001b[0;34m\u001b[0m\u001b[0;34m\u001b[0m\u001b[0m\n\u001b[0;32m---> 32\u001b[0;31m             \u001b[0maaa\u001b[0m \u001b[0;34m=\u001b[0m \u001b[0maudiosegment_to_ndarray\u001b[0m\u001b[0;34m(\u001b[0m\u001b[0ms\u001b[0m\u001b[0;34m[\u001b[0m\u001b[0mj\u001b[0m\u001b[0;34m:\u001b[0m\u001b[0mj\u001b[0m\u001b[0;34m+\u001b[0m\u001b[0;36m1000\u001b[0m\u001b[0;34m]\u001b[0m\u001b[0;34m)\u001b[0m\u001b[0;34m\u001b[0m\u001b[0;34m\u001b[0m\u001b[0m\n\u001b[0m\u001b[1;32m     33\u001b[0m             \u001b[0maa\u001b[0m \u001b[0;34m=\u001b[0m \u001b[0;34m[\u001b[0m\u001b[0;34m]\u001b[0m\u001b[0;34m\u001b[0m\u001b[0;34m\u001b[0m\u001b[0m\n\u001b[1;32m     34\u001b[0m             \u001b[0maa\u001b[0m\u001b[0;34m.\u001b[0m\u001b[0mappend\u001b[0m\u001b[0;34m(\u001b[0m\u001b[0maaa\u001b[0m\u001b[0;34m)\u001b[0m\u001b[0;34m\u001b[0m\u001b[0;34m\u001b[0m\u001b[0m\n",
      "\u001b[0;32m<ipython-input-26-cdaed2c90147>\u001b[0m in \u001b[0;36maudiosegment_to_ndarray\u001b[0;34m(audiosegment)\u001b[0m\n\u001b[1;32m      7\u001b[0m     \u001b[0mzcr_signal\u001b[0m \u001b[0;34m=\u001b[0m \u001b[0mlibrosa\u001b[0m\u001b[0;34m.\u001b[0m\u001b[0mfeature\u001b[0m\u001b[0;34m.\u001b[0m\u001b[0mzero_crossing_rate\u001b[0m\u001b[0;34m(\u001b[0m\u001b[0maudio_signal\u001b[0m\u001b[0;34m,\u001b[0m \u001b[0mframe_length\u001b[0m\u001b[0;34m=\u001b[0m\u001b[0;36m512\u001b[0m\u001b[0;34m,\u001b[0m \u001b[0mhop_length\u001b[0m\u001b[0;34m=\u001b[0m\u001b[0;36m410\u001b[0m\u001b[0;34m)\u001b[0m \u001b[0;31m#(1,32)\u001b[0m\u001b[0;34m\u001b[0m\u001b[0;34m\u001b[0m\u001b[0m\n\u001b[1;32m      8\u001b[0m     \u001b[0mmfcc_signal\u001b[0m \u001b[0;34m=\u001b[0m \u001b[0mlibrosa\u001b[0m\u001b[0;34m.\u001b[0m\u001b[0mfeature\u001b[0m\u001b[0;34m.\u001b[0m\u001b[0mmfcc\u001b[0m\u001b[0;34m(\u001b[0m\u001b[0maudio_signal\u001b[0m\u001b[0;34m,\u001b[0m\u001b[0msample_rate\u001b[0m\u001b[0;34m,\u001b[0m \u001b[0mn_fft\u001b[0m\u001b[0;34m=\u001b[0m\u001b[0;36m1024\u001b[0m\u001b[0;34m,\u001b[0m \u001b[0mhop_length\u001b[0m\u001b[0;34m=\u001b[0m\u001b[0;36m410\u001b[0m\u001b[0;34m)\u001b[0m \u001b[0;31m# (20,32)\u001b[0m\u001b[0;34m\u001b[0m\u001b[0;34m\u001b[0m\u001b[0m\n\u001b[0;32m----> 9\u001b[0;31m     \u001b[0mcentr_signal\u001b[0m \u001b[0;34m=\u001b[0m \u001b[0mlibrosa\u001b[0m\u001b[0;34m.\u001b[0m\u001b[0mfeature\u001b[0m\u001b[0;34m.\u001b[0m\u001b[0mspectral_centroid\u001b[0m\u001b[0;34m(\u001b[0m\u001b[0maudio_signal\u001b[0m\u001b[0;34m,\u001b[0m \u001b[0msample_rate\u001b[0m\u001b[0;34m,\u001b[0m \u001b[0mn_fft\u001b[0m\u001b[0;34m=\u001b[0m\u001b[0;36m1024\u001b[0m\u001b[0;34m,\u001b[0m \u001b[0mhop_length\u001b[0m\u001b[0;34m=\u001b[0m\u001b[0;36m410\u001b[0m\u001b[0;34m)\u001b[0m\u001b[0;31m# (1,32)\u001b[0m\u001b[0;34m\u001b[0m\u001b[0;34m\u001b[0m\u001b[0m\n\u001b[0m\u001b[1;32m     10\u001b[0m     \u001b[0mrolloff_signal\u001b[0m \u001b[0;34m=\u001b[0m \u001b[0mlibrosa\u001b[0m\u001b[0;34m.\u001b[0m\u001b[0mfeature\u001b[0m\u001b[0;34m.\u001b[0m\u001b[0mspectral_rolloff\u001b[0m\u001b[0;34m(\u001b[0m\u001b[0maudio_signal\u001b[0m\u001b[0;34m,\u001b[0m\u001b[0mn_fft\u001b[0m\u001b[0;34m=\u001b[0m\u001b[0;36m1024\u001b[0m\u001b[0;34m,\u001b[0m \u001b[0mhop_length\u001b[0m\u001b[0;34m=\u001b[0m\u001b[0;36m410\u001b[0m\u001b[0;34m)\u001b[0m \u001b[0;31m# (1,32)\u001b[0m\u001b[0;34m\u001b[0m\u001b[0;34m\u001b[0m\u001b[0m\n\u001b[1;32m     11\u001b[0m     \u001b[0;31m# get features matrix by concatenating all features\u001b[0m\u001b[0;34m\u001b[0m\u001b[0;34m\u001b[0m\u001b[0;34m\u001b[0m\u001b[0m\n",
      "\u001b[0;32m~/study_env/lib/python3.6/site-packages/librosa/feature/spectral.py\u001b[0m in \u001b[0;36mspectral_centroid\u001b[0;34m(y, sr, S, n_fft, hop_length, freq, win_length, window, center, pad_mode)\u001b[0m\n\u001b[1;32m    160\u001b[0m     S, n_fft = _spectrogram(y=y, S=S, n_fft=n_fft, hop_length=hop_length,\n\u001b[1;32m    161\u001b[0m                             \u001b[0mwin_length\u001b[0m\u001b[0;34m=\u001b[0m\u001b[0mwin_length\u001b[0m\u001b[0;34m,\u001b[0m \u001b[0mwindow\u001b[0m\u001b[0;34m=\u001b[0m\u001b[0mwindow\u001b[0m\u001b[0;34m,\u001b[0m \u001b[0mcenter\u001b[0m\u001b[0;34m=\u001b[0m\u001b[0mcenter\u001b[0m\u001b[0;34m,\u001b[0m\u001b[0;34m\u001b[0m\u001b[0;34m\u001b[0m\u001b[0m\n\u001b[0;32m--> 162\u001b[0;31m                             pad_mode=pad_mode)\n\u001b[0m\u001b[1;32m    163\u001b[0m \u001b[0;34m\u001b[0m\u001b[0m\n\u001b[1;32m    164\u001b[0m     \u001b[0;32mif\u001b[0m \u001b[0;32mnot\u001b[0m \u001b[0mnp\u001b[0m\u001b[0;34m.\u001b[0m\u001b[0misrealobj\u001b[0m\u001b[0;34m(\u001b[0m\u001b[0mS\u001b[0m\u001b[0;34m)\u001b[0m\u001b[0;34m:\u001b[0m\u001b[0;34m\u001b[0m\u001b[0;34m\u001b[0m\u001b[0m\n",
      "\u001b[0;32m~/study_env/lib/python3.6/site-packages/librosa/core/spectrum.py\u001b[0m in \u001b[0;36m_spectrogram\u001b[0;34m(y, S, n_fft, hop_length, power, win_length, window, center, pad_mode)\u001b[0m\n\u001b[1;32m   2526\u001b[0m         S = np.abs(stft(y, n_fft=n_fft, hop_length=hop_length,\n\u001b[1;32m   2527\u001b[0m                         \u001b[0mwin_length\u001b[0m\u001b[0;34m=\u001b[0m\u001b[0mwin_length\u001b[0m\u001b[0;34m,\u001b[0m \u001b[0mcenter\u001b[0m\u001b[0;34m=\u001b[0m\u001b[0mcenter\u001b[0m\u001b[0;34m,\u001b[0m\u001b[0;34m\u001b[0m\u001b[0;34m\u001b[0m\u001b[0m\n\u001b[0;32m-> 2528\u001b[0;31m                         window=window, pad_mode=pad_mode))**power\n\u001b[0m\u001b[1;32m   2529\u001b[0m \u001b[0;34m\u001b[0m\u001b[0m\n\u001b[1;32m   2530\u001b[0m     \u001b[0;32mreturn\u001b[0m \u001b[0mS\u001b[0m\u001b[0;34m,\u001b[0m \u001b[0mn_fft\u001b[0m\u001b[0;34m\u001b[0m\u001b[0;34m\u001b[0m\u001b[0m\n",
      "\u001b[0;32m~/study_env/lib/python3.6/site-packages/librosa/core/spectrum.py\u001b[0m in \u001b[0;36mstft\u001b[0;34m(y, n_fft, hop_length, win_length, window, center, dtype, pad_mode)\u001b[0m\n\u001b[1;32m    217\u001b[0m     \u001b[0;31m# Pad the time series so that frames are centered\u001b[0m\u001b[0;34m\u001b[0m\u001b[0;34m\u001b[0m\u001b[0;34m\u001b[0m\u001b[0m\n\u001b[1;32m    218\u001b[0m     \u001b[0;32mif\u001b[0m \u001b[0mcenter\u001b[0m\u001b[0;34m:\u001b[0m\u001b[0;34m\u001b[0m\u001b[0;34m\u001b[0m\u001b[0m\n\u001b[0;32m--> 219\u001b[0;31m         \u001b[0my\u001b[0m \u001b[0;34m=\u001b[0m \u001b[0mnp\u001b[0m\u001b[0;34m.\u001b[0m\u001b[0mpad\u001b[0m\u001b[0;34m(\u001b[0m\u001b[0my\u001b[0m\u001b[0;34m,\u001b[0m \u001b[0mint\u001b[0m\u001b[0;34m(\u001b[0m\u001b[0mn_fft\u001b[0m \u001b[0;34m//\u001b[0m \u001b[0;36m2\u001b[0m\u001b[0;34m)\u001b[0m\u001b[0;34m,\u001b[0m \u001b[0mmode\u001b[0m\u001b[0;34m=\u001b[0m\u001b[0mpad_mode\u001b[0m\u001b[0;34m)\u001b[0m\u001b[0;34m\u001b[0m\u001b[0;34m\u001b[0m\u001b[0m\n\u001b[0m\u001b[1;32m    220\u001b[0m \u001b[0;34m\u001b[0m\u001b[0m\n\u001b[1;32m    221\u001b[0m     \u001b[0;31m# Window the time series.\u001b[0m\u001b[0;34m\u001b[0m\u001b[0;34m\u001b[0m\u001b[0;34m\u001b[0m\u001b[0m\n",
      "\u001b[0;31mKeyboardInterrupt\u001b[0m: "
     ]
    }
   ],
   "source": [
    "pr = []\n",
    "for i, s in enumerate(test_sounds):\n",
    "    print(test_names[i])\n",
    "    real_values = []\n",
    "    predicted_values = []\n",
    "    p = 0\n",
    "    if test_labels[i] == 0:\n",
    "        real_values = [0 for k in range(len(s))]\n",
    "        for j in range(0, len(s) - 1000, 50):\n",
    "            aaa = audiosegment_to_ndarray(s[j:j+1000])\n",
    "            aa = []\n",
    "            aa.append(aaa)\n",
    "            aa = np.array(aa)\n",
    "            pr_val = model.predict(aa)[0][0]\n",
    "            if pr_val > 0.8:\n",
    "                p += 1\n",
    "            for _ in range(50):\n",
    "                predicted_values.append(pr_val)\n",
    "    else:\n",
    "        start = 0\n",
    "        end = 0\n",
    "        if label_file[i] == 'o':\n",
    "            start = border_dict[test_names[i]][0]\n",
    "            end = border_dict[test_names[i]][1]\n",
    "        else:\n",
    "            start = new_border_dict[test_names[i]][0]\n",
    "            end = new_border_dict[test_names[i]][1]\n",
    "        real_values = [0 for k in range(len(s))]\n",
    "        for k in range(int(start), int(end)):\n",
    "            real_values[k] = 1\n",
    "        for j in range(0, len(s) - 1000, 50):\n",
    "            aaa = audiosegment_to_ndarray(s[j:j+1000])\n",
    "            aa = []\n",
    "            aa.append(aaa)\n",
    "            aa = np.array(aa)\n",
    "            pr_val = model.predict(aa)[0][0]\n",
    "            if pr_val > 0.8:\n",
    "                p += 1\n",
    "            for _ in range(50):\n",
    "                predicted_values.append(pr_val)\n",
    "    if p > 0:\n",
    "        pr.append(1)\n",
    "    else:\n",
    "        pr.append(0)\n",
    "    print(i)\n",
    "    print(p)\n",
    "    plt.plot(real_values)\n",
    "    plt.plot(predicted_values, color='red')\n",
    "    plt.show()"
   ]
  },
  {
   "cell_type": "code",
   "execution_count": 41,
   "metadata": {},
   "outputs": [
    {
     "data": {
      "text/plain": [
       "0.8405228758169935"
      ]
     },
     "execution_count": 41,
     "metadata": {},
     "output_type": "execute_result"
    }
   ],
   "source": [
    "accuracy_score(test_labels, pr)"
   ]
  },
  {
   "cell_type": "code",
   "execution_count": 42,
   "metadata": {},
   "outputs": [],
   "source": [
    "fn = 0\n",
    "tp = 0\n",
    "fp = 0\n",
    "tn = 0\n",
    "for i, label in enumerate(test_labels):\n",
    "    if label == 1 and pr[i] == 1:\n",
    "        tp += 1\n",
    "    if label == 1 and pr[i] == 0:\n",
    "        fn += 1\n",
    "    if label == 0 and pr[i] == 1:\n",
    "        fp += 1\n",
    "    if label == 0 and pr[i] == 0:\n",
    "        tn += 1"
   ]
  },
  {
   "cell_type": "code",
   "execution_count": 43,
   "metadata": {},
   "outputs": [
    {
     "name": "stdout",
     "output_type": "stream",
     "text": [
      "385 86 36 258\n"
     ]
    }
   ],
   "source": [
    "print(tp, fn, fp, tn)"
   ]
  },
  {
   "cell_type": "code",
   "execution_count": 45,
   "metadata": {},
   "outputs": [],
   "source": [
    "precision = tp / (tp + fp)\n",
    "recall = tp / (tp + fn)"
   ]
  },
  {
   "cell_type": "code",
   "execution_count": 46,
   "metadata": {},
   "outputs": [
    {
     "data": {
      "text/plain": [
       "0.8632286995515696"
      ]
     },
     "execution_count": 46,
     "metadata": {},
     "output_type": "execute_result"
    }
   ],
   "source": [
    "f1_score = 2*recall*precision / (recall + precision)\n",
    "f1_score"
   ]
  }
 ],
 "metadata": {
  "kernelspec": {
   "display_name": "Python 3",
   "language": "python",
   "name": "python3"
  },
  "language_info": {
   "codemirror_mode": {
    "name": "ipython",
    "version": 3
   },
   "file_extension": ".py",
   "mimetype": "text/x-python",
   "name": "python",
   "nbconvert_exporter": "python",
   "pygments_lexer": "ipython3",
   "version": "3.6.8"
  }
 },
 "nbformat": 4,
 "nbformat_minor": 2
}
