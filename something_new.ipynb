{
 "cells": [
  {
   "cell_type": "code",
   "execution_count": 2,
   "metadata": {},
   "outputs": [],
   "source": [
    "import os\n",
    "import audiosegment as aud\n",
    "from pydub import AudioSegment as aus\n",
    "import random\n",
    "from tqdm import tqdm"
   ]
  },
  {
   "cell_type": "code",
   "execution_count": 3,
   "metadata": {},
   "outputs": [],
   "source": [
    "for_cut = '/home/anton/Documents/command_data/0/'\n",
    "for_save = '/home/anton/Documents/final_set/0/'"
   ]
  },
  {
   "cell_type": "code",
   "execution_count": 4,
   "metadata": {},
   "outputs": [],
   "source": [
    "false_list = os.listdir(for_cut)"
   ]
  },
  {
   "cell_type": "code",
   "execution_count": 5,
   "metadata": {},
   "outputs": [],
   "source": [
    "# names = []\n",
    "# borders = []\n",
    "# f = open('labels.txt')\n",
    "# lines = f.readlines()\n",
    "# for line in lines:\n",
    "#     line_list = line.split(' ')\n",
    "#     names.append(line_list[0])\n",
    "#     borders.append([line_list[1], line_list[2][:-1]])\n",
    "# border_dict = dict(zip(names, borders))\n",
    "# f.close()"
   ]
  },
  {
   "cell_type": "code",
   "execution_count": 6,
   "metadata": {},
   "outputs": [],
   "source": [
    "# new_names = []\n",
    "# new_borders = []\n",
    "# f = open('new_labels.txt')\n",
    "# lines = f.readlines()\n",
    "# for line in lines:\n",
    "#     line_list = line.split(' ')\n",
    "#     new_names.append(line_list[0])\n",
    "#     new_borders.append([line_list[1], line_list[2][:-1]])\n",
    "# new_border_dict = dict(zip(new_names, new_borders))\n",
    "# f.close()"
   ]
  },
  {
   "cell_type": "code",
   "execution_count": 7,
   "metadata": {},
   "outputs": [],
   "source": [
    "# len(false_list)"
   ]
  },
  {
   "cell_type": "code",
   "execution_count": 8,
   "metadata": {},
   "outputs": [],
   "source": [
    "# for i, sound_name in tqdm(enumerate(true_list)):\n",
    "#     sound = aus.from_wav(for_cut_1 + sound_name)\n",
    "#     down_bord = int(border_dict[sound_name][0])\n",
    "#     up_bord = int(border_dict[sound_name][1])\n",
    "#     for j in range(5):\n",
    "#         ind = random.randint(down_bord - 400, down_bord + 400)\n",
    "#         output = sound[ind:ind+1000]\n",
    "#         output.export(expand_data_1 + 'smth_new_' + str(i) + '_' + str(j) + '.wav', format='wav')"
   ]
  },
  {
   "cell_type": "code",
   "execution_count": 12,
   "metadata": {},
   "outputs": [
    {
     "name": "stderr",
     "output_type": "stream",
     "text": [
      "2054it [00:34, 60.32it/s]\n"
     ]
    }
   ],
   "source": [
    "for i, sound_name in tqdm(enumerate(false_list)):\n",
    "    sound = aus.from_wav(for_cut + sound_name)\n",
    "    for j in range(2):\n",
    "        ind = random.randint(0, len(sound)-4000)\n",
    "        output = sound[ind:ind+1000]\n",
    "        output.export(for_save + 'sm_new_' + str(i) + '_' + str(j) + '.wav', format='wav')"
   ]
  },
  {
   "cell_type": "code",
   "execution_count": 9,
   "metadata": {},
   "outputs": [],
   "source": [
    "# new_test_1 = '/home/anton/Documents/new_test/1/'"
   ]
  },
  {
   "cell_type": "code",
   "execution_count": 10,
   "metadata": {},
   "outputs": [],
   "source": [
    "# new_test_list = os.listdir(new_test_1)"
   ]
  },
  {
   "cell_type": "code",
   "execution_count": 11,
   "metadata": {},
   "outputs": [],
   "source": [
    "# for i, sound_name in tqdm(enumerate(new_test_list)):\n",
    "#     sound = aus.from_wav(new_test_1 + sound_name)\n",
    "#     down_bord = int(new_border_dict[sound_name][0])\n",
    "#     up_bord = int(new_border_dict[sound_name][1])\n",
    "#     for j in range(5):\n",
    "#         ind = random.randint(down_bord - 300, down_bord + 300)\n",
    "#         output = sound[ind:ind+1000]\n",
    "#         output.export(expand_data_1 + 'snew_' + str(i) + '_' + str(j) + '.wav', format='wav')"
   ]
  },
  {
   "cell_type": "code",
   "execution_count": null,
   "metadata": {},
   "outputs": [],
   "source": []
  }
 ],
 "metadata": {
  "kernelspec": {
   "display_name": "Python 3",
   "language": "python",
   "name": "python3"
  },
  "language_info": {
   "codemirror_mode": {
    "name": "ipython",
    "version": 3
   },
   "file_extension": ".py",
   "mimetype": "text/x-python",
   "name": "python",
   "nbconvert_exporter": "python",
   "pygments_lexer": "ipython3",
   "version": "3.6.8"
  }
 },
 "nbformat": 4,
 "nbformat_minor": 2
}
