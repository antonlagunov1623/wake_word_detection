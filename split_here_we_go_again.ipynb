{
 "cells": [
  {
   "cell_type": "code",
   "execution_count": 31,
   "metadata": {},
   "outputs": [],
   "source": [
    "from pydub import AudioSegment as aus\n",
    "import librosa\n",
    "import audiosegment as aud\n",
    "import os\n",
    "import random"
   ]
  },
  {
   "cell_type": "code",
   "execution_count": 32,
   "metadata": {},
   "outputs": [],
   "source": [
    "back_one_path = '/home/anton/Documents/_background_noise_/'\n",
    "back_two_path = '/home/anton/Documents/chime/'\n",
    "arctic_path = '/home/anton/Documents/arctic/'\n",
    "commands_path = '/home/anton/Documents/data_speech_commands_v0.02/'\n",
    "happy_path = '/home/anton/Documents/data_speech_commands_v0.02/happy/'\n",
    "\n",
    "final_zero_path = '/home/anton/Documents/new_train/0/'\n",
    "final_one_path = '/home/anton/Documents/new_train/1/'"
   ]
  },
  {
   "cell_type": "code",
   "execution_count": 33,
   "metadata": {},
   "outputs": [],
   "source": [
    "back_one_list_sound = os.listdir(back_one_path)\n",
    "back_two_list_sound = os.listdir(back_two_path)\n",
    "arctic_list_folders = os.listdir(arctic_path)\n",
    "commands_list = os.listdir(commands_path)\n",
    "commands_list.remove('happy')\n",
    "happy_list_sound = os.listdir(happy_path)"
   ]
  },
  {
   "cell_type": "code",
   "execution_count": 6,
   "metadata": {},
   "outputs": [],
   "source": [
    "for i in range(300):\n",
    "    back_sound_one = aus.from_wav(back_one_path + random.choice(back_one_list_sound))\n",
    "    ind = random.randint(0, len(back_sound_one) - 1500)\n",
    "    back_sound_one[ind:ind+1000].export(final_zero_path + 'back_one_' + str(i) + '.wav', format='wav')"
   ]
  },
  {
   "cell_type": "code",
   "execution_count": 7,
   "metadata": {},
   "outputs": [],
   "source": [
    "for i in range(700):\n",
    "    back_sound_two = aus.from_wav(back_two_path + random.choice(back_two_list_sound))\n",
    "    ind = random.randint(0, len(back_sound_two) - 1000)\n",
    "    back_sound_one[ind:ind+1000].export(final_zero_path + 'back_two_' + str(i) + '.wav', format='wav')"
   ]
  },
  {
   "cell_type": "code",
   "execution_count": 22,
   "metadata": {},
   "outputs": [],
   "source": [
    "for i in range(1000):\n",
    "    random_arctic_folder = random.choice(arctic_list_folders)\n",
    "    random_arctic_sound = random.choice(os.listdir(arctic_path + random_arctic_folder + '/wav/'))\n",
    "    arctic_sound = aus.from_wav(arctic_path + random_arctic_folder + '/wav/' + random_arctic_sound)\n",
    "    while True:\n",
    "        if len(arctic_sound) > 3000:\n",
    "            break\n",
    "        else:\n",
    "            random_arctic_folder = random.choice(arctic_list_folders)\n",
    "            random_arctic_sound = random.choice(os.listdir(arctic_path + random_arctic_folder + '/wav/'))\n",
    "            arctic_sound = aus.from_wav(arctic_path + random_arctic_folder + '/wav/' + random_arctic_sound)\n",
    "    ind = random.randint(0, len(arctic_sound) - 1500)\n",
    "    arctic_sound[ind:ind+1000].export(final_zero_path + 'clear_arctic_' + str(i) + '.wav', format='wav')"
   ]
  },
  {
   "cell_type": "code",
   "execution_count": 23,
   "metadata": {},
   "outputs": [],
   "source": [
    "for i in range(1000):\n",
    "    random_arctic_folder = random.choice(arctic_list_folders)\n",
    "    random_arctic_sound = random.choice(os.listdir(arctic_path + random_arctic_folder + '/wav/'))\n",
    "    arctic_sound = aus.from_wav(arctic_path + random_arctic_folder + '/wav/' + random_arctic_sound)\n",
    "    while True:\n",
    "        if len(arctic_sound) > 3000:\n",
    "            break\n",
    "        else:\n",
    "            random_arctic_folder = random.choice(arctic_list_folders)\n",
    "            random_arctic_sound = random.choice(os.listdir(arctic_path + random_arctic_folder + '/wav/'))\n",
    "            arctic_sound = aus.from_wav(arctic_path + random_arctic_folder + '/wav/' + random_arctic_sound)\n",
    "    ind = random.randint(0, len(arctic_sound) - 1500)\n",
    "    back_sound_one = aus.from_wav(back_one_path + random.choice(back_one_list_sound))\n",
    "    back_ind = random.randint(0, len(back_sound_one) - 1500)\n",
    "    output = arctic_sound[ind:ind+1000].overlay(back_sound_one[back_ind:back_ind+1000], position=0)\n",
    "    output.export(final_zero_path + 'back_one_arctic_' + str(i) + '.wav', format='wav')"
   ]
  },
  {
   "cell_type": "code",
   "execution_count": 24,
   "metadata": {},
   "outputs": [],
   "source": [
    "for i in range(1000):\n",
    "    random_arctic_folder = random.choice(arctic_list_folders)\n",
    "    random_arctic_sound = random.choice(os.listdir(arctic_path + random_arctic_folder + '/wav/'))\n",
    "    arctic_sound = aus.from_wav(arctic_path + random_arctic_folder + '/wav/' + random_arctic_sound)\n",
    "    while True:\n",
    "        if len(arctic_sound) > 3000:\n",
    "            break\n",
    "        else:\n",
    "            random_arctic_folder = random.choice(arctic_list_folders)\n",
    "            random_arctic_sound = random.choice(os.listdir(arctic_path + random_arctic_folder + '/wav/'))\n",
    "            arctic_sound = aus.from_wav(arctic_path + random_arctic_folder + '/wav/' + random_arctic_sound)\n",
    "    ind = random.randint(0, len(arctic_sound) - 1500)\n",
    "    back_sound_two = aus.from_wav(back_two_path + random.choice(back_two_list_sound))\n",
    "    back_ind = random.randint(0, len(back_sound_two) - 1500)\n",
    "    output = arctic_sound[ind:ind+1000].overlay(back_sound_two[back_ind:back_ind+1000], position=0)\n",
    "    output.export(final_zero_path + 'back_two_arctic_' + str(i) + '.wav', format='wav')"
   ]
  },
  {
   "cell_type": "code",
   "execution_count": 26,
   "metadata": {},
   "outputs": [],
   "source": [
    "for i in range(1000):\n",
    "    random_command = random.choice(commands_list)\n",
    "    random_command_sound = random.choice(os.listdir(commands_path + random_command + '/'))\n",
    "    command_sound = aus.from_wav(commands_path + random_command + '/' + random_command_sound)\n",
    "    if len(command_sound) >= 1000:\n",
    "        command_sound.export(final_zero_path + 'clear_command_' + str(i) + '.wav', format='wav')"
   ]
  },
  {
   "cell_type": "code",
   "execution_count": 27,
   "metadata": {},
   "outputs": [],
   "source": [
    "for i in range(2000):\n",
    "    random_command = random.choice(commands_list)\n",
    "    random_command_sound = random.choice(os.listdir(commands_path + random_command + '/'))\n",
    "    command_sound = aus.from_wav(commands_path + random_command + '/' + random_command_sound)\n",
    "    if len(command_sound) >= 900 and len(command_sound) <= 1100:\n",
    "        where = random.choice(['start', 'end'])\n",
    "        back_sound_one = aus.from_wav(back_one_path + random.choice(back_one_list_sound))\n",
    "        back_ind = random.randint(0, len(back_sound_one) - 1500)\n",
    "        if where == 'start':\n",
    "            ind = random.randint(500, 899)\n",
    "            output = back_sound_one[back_ind:back_ind+1000].overlay(command_sound[:ind], position=1000-ind-1)\n",
    "            output.export(final_zero_path + 'back_command_' + str(i) + '.wav', format='wav')\n",
    "        else:\n",
    "            ind = random.randint(500, 899)\n",
    "            output = back_sound_one[back_ind:back_ind+1000].overlay(command_sound[len(command_sound)-ind:len(command_sound)], position=0)\n",
    "            output.export(final_zero_path + 'back_command_' + str(i) + '.wav', format='wav')"
   ]
  },
  {
   "cell_type": "code",
   "execution_count": 28,
   "metadata": {},
   "outputs": [],
   "source": [
    "for i, happy in enumerate(happy_list_sound):\n",
    "    happy_sound = aus.from_wav(happy_path + happy)\n",
    "    if len(happy_sound) >= 1000:\n",
    "        happy_sound[:1000].export(final_one_path + 'clear_happy_' + str(i) + '.wav', format='wav')"
   ]
  },
  {
   "cell_type": "code",
   "execution_count": 30,
   "metadata": {},
   "outputs": [],
   "source": [
    "for i, happy in enumerate(happy_list_sound):\n",
    "    happy_sound = aus.from_wav(happy_path + happy)\n",
    "    if len(happy_sound) >= 900 and len(happy_sound) <= 1100:\n",
    "        where = random.choice(['start', 'end'])\n",
    "        back_sound_one = aus.from_wav(back_one_path + random.choice(back_one_list_sound))\n",
    "        back_ind = random.randint(0, len(back_sound_one) - 1500)\n",
    "        if where == 'start':\n",
    "            ind = random.randint(800, 899)\n",
    "            output = back_sound_one[back_ind:back_ind+1000].overlay(happy_sound[:ind], position=1000-ind-1)\n",
    "            output.export(final_one_path + 'back_happy_' + str(i) + '.wav', format='wav')\n",
    "        else:\n",
    "            ind = random.randint(800, 899)\n",
    "            output = back_sound_one[back_ind:back_ind+1000].overlay(happy_sound[len(happy_sound)-ind:len(happy_sound)], position=0)\n",
    "            output.export(final_one_path + 'back_happy_' + str(i) + '.wav', format='wav')"
   ]
  },
  {
   "cell_type": "code",
   "execution_count": 34,
   "metadata": {},
   "outputs": [],
   "source": [
    "for i, happy in enumerate(happy_list_sound):\n",
    "    happy_sound = aus.from_wav(happy_path + happy)\n",
    "    if len(happy_sound) >= 900 and len(happy_sound) <= 1100:\n",
    "        where = random.choice(['start', 'end'])\n",
    "        back_sound_two = aus.from_wav(back_two_path + random.choice(back_two_list_sound))\n",
    "        back_ind = random.randint(0, len(back_sound_two) - 1001)\n",
    "        if where == 'start':\n",
    "            ind = random.randint(800, 899)\n",
    "            output = back_sound_two[back_ind:back_ind+1000].overlay(happy_sound[:ind], position=1000-ind-1)\n",
    "            output.export(final_one_path + 'back_happy_' + str(i) + '.wav', format='wav')\n",
    "        else:\n",
    "            ind = random.randint(800, 899)\n",
    "            output = back_sound_two[back_ind:back_ind+1000].overlay(happy_sound[len(happy_sound)-ind:len(happy_sound)], position=0)\n",
    "            output.export(final_one_path + 'back_two_happy_' + str(i) + '.wav', format='wav')"
   ]
  },
  {
   "cell_type": "code",
   "execution_count": null,
   "metadata": {},
   "outputs": [],
   "source": []
  },
  {
   "cell_type": "code",
   "execution_count": null,
   "metadata": {},
   "outputs": [],
   "source": []
  },
  {
   "cell_type": "code",
   "execution_count": null,
   "metadata": {},
   "outputs": [],
   "source": []
  },
  {
   "cell_type": "code",
   "execution_count": null,
   "metadata": {},
   "outputs": [],
   "source": []
  },
  {
   "cell_type": "code",
   "execution_count": null,
   "metadata": {},
   "outputs": [],
   "source": []
  },
  {
   "cell_type": "code",
   "execution_count": null,
   "metadata": {},
   "outputs": [],
   "source": []
  },
  {
   "cell_type": "code",
   "execution_count": null,
   "metadata": {},
   "outputs": [],
   "source": []
  },
  {
   "cell_type": "code",
   "execution_count": null,
   "metadata": {},
   "outputs": [],
   "source": []
  },
  {
   "cell_type": "code",
   "execution_count": null,
   "metadata": {},
   "outputs": [],
   "source": []
  },
  {
   "cell_type": "code",
   "execution_count": null,
   "metadata": {},
   "outputs": [],
   "source": []
  },
  {
   "cell_type": "code",
   "execution_count": null,
   "metadata": {},
   "outputs": [],
   "source": []
  },
  {
   "cell_type": "code",
   "execution_count": null,
   "metadata": {},
   "outputs": [],
   "source": []
  },
  {
   "cell_type": "code",
   "execution_count": null,
   "metadata": {},
   "outputs": [],
   "source": []
  }
 ],
 "metadata": {
  "kernelspec": {
   "display_name": "Python 3",
   "language": "python",
   "name": "python3"
  },
  "language_info": {
   "codemirror_mode": {
    "name": "ipython",
    "version": 3
   },
   "file_extension": ".py",
   "mimetype": "text/x-python",
   "name": "python",
   "nbconvert_exporter": "python",
   "pygments_lexer": "ipython3",
   "version": "3.6.8"
  }
 },
 "nbformat": 4,
 "nbformat_minor": 2
}
