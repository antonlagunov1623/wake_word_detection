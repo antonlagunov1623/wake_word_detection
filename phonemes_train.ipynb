{
 "cells": [
  {
   "cell_type": "code",
   "execution_count": 2,
   "metadata": {},
   "outputs": [],
   "source": [
    "import os\n",
    "import python_speech_features as features\n",
    "import numpy as np\n",
    "import librosa\n",
    "from tqdm import tqdm\n",
    "from sklearn.utils import shuffle\n",
    "import scipy.io.wavfile as wav\n",
    "import skimage\n",
    "from skimage.io import imsave\n",
    "\n",
    "from keras import layers\n",
    "from keras.models import Sequential\n",
    "from keras import regularizers\n",
    "from tensorflow.keras.layers import Input\n",
    "from keras.losses import Poisson\n",
    "\n",
    "from keras.models import Model\n",
    "from keras.layers import Input, Permute, Reshape, Lambda, Dot, Softmax\n",
    "from keras.layers import Add, BatchNormalization, Conv2D, Dense, LSTM, Bidirectional, Dropout, Flatten\n",
    "from keras import backend as K\n",
    "from keras.callbacks import EarlyStopping, ModelCheckpoint, LearningRateScheduler\n",
    "from kapre.time_frequency import Melspectrogram\n",
    "from kapre.utils import Normalization2D"
   ]
  },
  {
   "cell_type": "code",
   "execution_count": 85,
   "metadata": {},
   "outputs": [],
   "source": [
    "sound_path = '/home/anton/Documents/phonemes/sounds/'\n",
    "labels_path = '/home/anton/Documents/phonemes/labels/'"
   ]
  },
  {
   "cell_type": "code",
   "execution_count": 86,
   "metadata": {},
   "outputs": [],
   "source": [
    "phonemes = [\"b\", \"bcl\", \"d\", \"dcl\", \"g\", \"gcl\", \"p\", \"pcl\", \"t\", \"tcl\", \"k\", \"kcl\", \"dx\", \"q\", \"jh\", \"ch\", \"s\", \"sh\", \"z\", \"zh\", \n",
    "    \"f\", \"th\", \"v\", \"dh\", \"m\", \"n\", \"ng\", \"em\", \"en\", \"eng\", \"nx\", \"l\", \"r\", \"w\", \"y\", \n",
    "    \"hh\", \"hv\", \"el\", \"iy\", \"ih\", \"eh\", \"ey\", \"ae\", \"aa\", \"aw\", \"ay\", \"ah\", \"ao\", \"oy\",\n",
    "    \"ow\", \"uh\", \"uw\", \"ux\", \"er\", \"ax\", \"ix\", \"axr\", \"ax-h\", \"pau\", \"epi\", \"h#\"]"
   ]
  },
  {
   "cell_type": "code",
   "execution_count": 142,
   "metadata": {},
   "outputs": [],
   "source": [
    "X_train = []\n",
    "y_train = []"
   ]
  },
  {
   "cell_type": "code",
   "execution_count": 78,
   "metadata": {},
   "outputs": [],
   "source": [
    "def get_total_duration(file):\n",
    "    for line in reversed(list(open(file))):\n",
    "        [_, val, _] = line.split()\n",
    "        return int(val)"
   ]
  },
  {
   "cell_type": "code",
   "execution_count": 79,
   "metadata": {},
   "outputs": [],
   "source": [
    "def find_label_vector(file_name):\n",
    "    labels = []\n",
    "    f = open(file_name)\n",
    "    lines = f.readlines()\n",
    "    for line in lines:\n",
    "        [start_time, end_time, phoneme] = line.split()\n",
    "        ph_label = phonemes.index(phoneme)\n",
    "        start_time = int(start_time)\n",
    "        end_time = int(end_time)\n",
    "        dist = end_time - start_time\n",
    "        for _ in range(dist):\n",
    "            labels.append(ph_label)\n",
    "    f.close()\n",
    "    return labels"
   ]
  },
  {
   "cell_type": "code",
   "execution_count": 80,
   "metadata": {},
   "outputs": [],
   "source": [
    "def create_mfcc(rate, sample):\n",
    "    mfcc = features.mfcc(sample, rate, winlen=0.025, winstep=0.01, numcep = 13, nfilt=26,\n",
    "    preemph=0.97, appendEnergy=True)\n",
    "    derivative = np.zeros(mfcc.shape)\n",
    "    for i in range(1, mfcc.shape[0]-1):\n",
    "        derivative[i, :] = mfcc[i+1, :] - mfcc[i-1, :]\n",
    "    out = np.concatenate((mfcc, derivative), axis=1)\n",
    "    return out, out.shape[0]"
   ]
  },
  {
   "cell_type": "code",
   "execution_count": 81,
   "metadata": {},
   "outputs": [],
   "source": [
    "def create_y_labels(labels, fr):\n",
    "    total_len = len(labels)\n",
    "    new_labels = np.zeros(fr) - 1\n",
    "    sym = labels[0]\n",
    "    start_indexes = []\n",
    "    end_indexes = []\n",
    "    symbols = []\n",
    "    start_index = 0\n",
    "    for i, l in enumerate(labels):\n",
    "        if l != sym:\n",
    "            end_indexes.append(int((float(i)/float(total_len))*float(fr)))\n",
    "            symbols.append(sym)\n",
    "            start_indexes.append(start_index)\n",
    "            sym = l\n",
    "            start_index = int((float(i)/float(total_len))*float(fr))\n",
    "        if i == len(labels) - 1:\n",
    "            end_indexes.append(fr)\n",
    "            symbols.append(sym)\n",
    "            start_indexes.append(start_index)\n",
    "    if start_index == 0:\n",
    "        new_labels[0:fr] = sym\n",
    "    else:\n",
    "        for i in range(len(start_indexes)):\n",
    "            new_labels[start_indexes[i]:end_indexes[i]] = symbols[i]\n",
    "        \n",
    "    return new_labels"
   ]
  },
  {
   "cell_type": "code",
   "execution_count": 82,
   "metadata": {},
   "outputs": [],
   "source": [
    "def calc_norm_param(X):\n",
    "    total_len = 0\n",
    "    mean_val = np.zeros(X[0].shape[1])\n",
    "    std_val = np.zeros(X[0].shape[1])\n",
    "    for obs in X:\n",
    "        obs_len = obs.shape[0]\n",
    "        mean_val += np.mean(obs,axis=0)*obs_len\n",
    "        std_val += np.std(obs, axis=0)*obs_len\n",
    "        total_len += obs_len\n",
    "\n",
    "    mean_val /= total_len\n",
    "    std_val /= total_len\n",
    "\n",
    "\n",
    "    return mean_val, std_val, total_len"
   ]
  },
  {
   "cell_type": "code",
   "execution_count": 83,
   "metadata": {},
   "outputs": [],
   "source": [
    "def normalize(X, mean_val, std_val):\n",
    "    for i in range(len(X)):\n",
    "        X[i] = (X[i] - mean_val)/std_val\n",
    "    return X"
   ]
  },
  {
   "cell_type": "code",
   "execution_count": 84,
   "metadata": {},
   "outputs": [],
   "source": [
    "def create_y_sample(y):\n",
    "    sample = []\n",
    "    for l in y:\n",
    "        lab = np.zeros(len(phonemes))\n",
    "        lab[int(l)] = 1\n",
    "        sample.append(lab)\n",
    "    return np.array(sample)"
   ]
  },
  {
   "cell_type": "code",
   "execution_count": 76,
   "metadata": {},
   "outputs": [],
   "source": [
    "def find_class(labels):\n",
    "    common = max(set(labels), key = labels.count)\n",
    "    cl = np.zeros((len(phonemes), ))\n",
    "    cl[common] = 1\n",
    "    return cl"
   ]
  },
  {
   "cell_type": "code",
   "execution_count": 143,
   "metadata": {
    "scrolled": true
   },
   "outputs": [
    {
     "name": "stderr",
     "output_type": "stream",
     "text": [
      "100%|██████████| 4620/4620 [02:08<00:00, 35.85it/s]\n"
     ]
    }
   ],
   "source": [
    "for i in tqdm(range(len(os.listdir(sound_path)))):\n",
    "    y, sr = librosa.load(sound_path + str(i) + '.WAV', sr=16000)\n",
    "    label_vector = find_label_vector(labels_path + str(i) + '.PHN')\n",
    "    y = y[:len(label_vector)]\n",
    "    for j in range(0, len(label_vector) - 1500, 100):\n",
    "        X_train.append(y[j:j+1000])\n",
    "        y_train.append(find_class(label_vector[j:j+1000]))"
   ]
  },
  {
   "cell_type": "code",
   "execution_count": 144,
   "metadata": {},
   "outputs": [],
   "source": [
    "def AttRNNSpeechModel(samplingrate = 16000, inputLength = 1000, rnn_func = LSTM):\n",
    "    sr = samplingrate\n",
    "    iLen = inputLength\n",
    "    \n",
    "    inputs = Input((inputLength,), name='input')\n",
    "\n",
    "    x = Reshape((1, -1)) (inputs)\n",
    "\n",
    "    x = Melspectrogram(n_dft=512, n_hop=128, input_shape=(1, iLen),\n",
    "                             padding='same', sr=sr, n_mels=80,\n",
    "                             fmin=40.0, fmax=sr/2, power_melgram=1.0,\n",
    "                             return_decibel_melgram=True, trainable_fb=False,\n",
    "                             trainable_kernel=False,\n",
    "                             name='mel_stft') (x)\n",
    "\n",
    "    x = Normalization2D(int_axis=0)(x)\n",
    "\n",
    "    #note that Melspectrogram puts the sequence in shape (batch_size, melDim, timeSteps, 1)\n",
    "    #we would rather have it the other way around for LSTMs\n",
    "\n",
    "    x = Permute((2,1,3)) (x)\n",
    "\n",
    "    x = Conv2D(10, (5,1) , activation='relu', padding='same') (x)\n",
    "    x = BatchNormalization() (x)\n",
    "    x = Conv2D(1, (5,1) , activation='relu', padding='same') (x)\n",
    "    x = BatchNormalization() (x)\n",
    "\n",
    "    x = Lambda(lambda q: K.squeeze(q, -1), name='squeeze_last_dim') (x) #keras.backend.squeeze(x, axis)\n",
    "\n",
    "    x = Bidirectional(rnn_func(64, return_sequences = True, dropout=0.3)) (x) # [b_s, seq_len, vec_dim]\n",
    "    x = Bidirectional(rnn_func(64, return_sequences = True, dropout=0.3)) (x) # [b_s, seq_len, vec_dim]\n",
    "\n",
    "    xFirst = Lambda(lambda q: q[:,4]) (x) #[b_s, vec_dim]\n",
    "    query = Dense(128) (xFirst)\n",
    "\n",
    "    #dot product attention\n",
    "    attScores = Dot(axes=[1,2])([query, x]) \n",
    "    attScores = Softmax(name='attSoftmax')(attScores) #[b_s, seq_len]\n",
    "\n",
    "    #rescale sequence\n",
    "    attVector = Dot(axes=[1,1])([attScores, x]) #[b_s, vec_dim]\n",
    "\n",
    "    x = Dense(256, activation = 'relu')(attVector)\n",
    "    x = Dense(128)(x)\n",
    "    x = Dense(64)(x)\n",
    "\n",
    "    output = Dense(61, activation = 'softmax', name='output')(x)\n",
    "\n",
    "    model = Model(inputs=[inputs], outputs=[output])\n",
    "\n",
    "    model.compile(optimizer='Adam', loss='categorical_crossentropy', metrics=['acc'])\n",
    "    \n",
    "    return model"
   ]
  },
  {
   "cell_type": "code",
   "execution_count": 145,
   "metadata": {
    "scrolled": true
   },
   "outputs": [
    {
     "name": "stdout",
     "output_type": "stream",
     "text": [
      "tracking <tf.Variable 'mel_stft_9/real_kernels:0' shape=(512, 1, 1, 257) dtype=float32> dft_real_kernels\n",
      "tracking <tf.Variable 'mel_stft_9/imag_kernels:0' shape=(512, 1, 1, 257) dtype=float32> dft_imag_kernels\n",
      "tracking <tf.Variable 'mel_stft_9/Variable:0' shape=(257, 80) dtype=float32> freq2mel\n"
     ]
    }
   ],
   "source": [
    "model = AttRNNSpeechModel()"
   ]
  },
  {
   "cell_type": "code",
   "execution_count": 146,
   "metadata": {},
   "outputs": [],
   "source": [
    "X_train, y_train = shuffle(X_train, y_train, random_state=30)"
   ]
  },
  {
   "cell_type": "code",
   "execution_count": 147,
   "metadata": {},
   "outputs": [
    {
     "name": "stdout",
     "output_type": "stream",
     "text": [
      "Train on 16000 samples, validate on 4000 samples\n",
      "Epoch 1/24\n",
      "16000/16000 [==============================] - 36s 2ms/step - loss: 3.0087 - acc: 0.2077 - val_loss: 2.7377 - val_acc: 0.2492\n",
      "Epoch 2/24\n",
      "16000/16000 [==============================] - 32s 2ms/step - loss: 2.7640 - acc: 0.2434 - val_loss: 2.5780 - val_acc: 0.2772\n",
      "Epoch 3/24\n",
      "16000/16000 [==============================] - 33s 2ms/step - loss: 2.6720 - acc: 0.2578 - val_loss: 2.5034 - val_acc: 0.2985\n",
      "Epoch 4/24\n",
      " 5312/16000 [========>.....................] - ETA: 20s - loss: 2.6131 - acc: 0.2660"
     ]
    },
    {
     "ename": "KeyboardInterrupt",
     "evalue": "",
     "output_type": "error",
     "traceback": [
      "\u001b[0;31m---------------------------------------------------------------------------\u001b[0m",
      "\u001b[0;31mKeyboardInterrupt\u001b[0m                         Traceback (most recent call last)",
      "\u001b[0;32m<ipython-input-147-4ee5edef4fe2>\u001b[0m in \u001b[0;36m<module>\u001b[0;34m\u001b[0m\n\u001b[0;32m----> 1\u001b[0;31m \u001b[0mhistory\u001b[0m \u001b[0;34m=\u001b[0m \u001b[0mmodel\u001b[0m\u001b[0;34m.\u001b[0m\u001b[0mfit\u001b[0m\u001b[0;34m(\u001b[0m\u001b[0mnp\u001b[0m\u001b[0;34m.\u001b[0m\u001b[0marray\u001b[0m\u001b[0;34m(\u001b[0m\u001b[0mX_train\u001b[0m\u001b[0;34m[\u001b[0m\u001b[0;34m:\u001b[0m\u001b[0;36m20000\u001b[0m\u001b[0;34m]\u001b[0m\u001b[0;34m)\u001b[0m\u001b[0;34m,\u001b[0m \u001b[0mnp\u001b[0m\u001b[0;34m.\u001b[0m\u001b[0marray\u001b[0m\u001b[0;34m(\u001b[0m\u001b[0my_train\u001b[0m\u001b[0;34m[\u001b[0m\u001b[0;34m:\u001b[0m\u001b[0;36m20000\u001b[0m\u001b[0;34m]\u001b[0m\u001b[0;34m)\u001b[0m\u001b[0;34m,\u001b[0m \u001b[0mepochs\u001b[0m\u001b[0;34m=\u001b[0m\u001b[0;36m24\u001b[0m\u001b[0;34m,\u001b[0m \u001b[0mvalidation_split\u001b[0m\u001b[0;34m=\u001b[0m\u001b[0;36m0.2\u001b[0m\u001b[0;34m)\u001b[0m\u001b[0;34m\u001b[0m\u001b[0;34m\u001b[0m\u001b[0m\n\u001b[0m",
      "\u001b[0;32m~/study_env/lib/python3.6/site-packages/keras/engine/training.py\u001b[0m in \u001b[0;36mfit\u001b[0;34m(self, x, y, batch_size, epochs, verbose, callbacks, validation_split, validation_data, shuffle, class_weight, sample_weight, initial_epoch, steps_per_epoch, validation_steps, validation_freq, max_queue_size, workers, use_multiprocessing, **kwargs)\u001b[0m\n\u001b[1;32m   1237\u001b[0m                                         \u001b[0msteps_per_epoch\u001b[0m\u001b[0;34m=\u001b[0m\u001b[0msteps_per_epoch\u001b[0m\u001b[0;34m,\u001b[0m\u001b[0;34m\u001b[0m\u001b[0;34m\u001b[0m\u001b[0m\n\u001b[1;32m   1238\u001b[0m                                         \u001b[0mvalidation_steps\u001b[0m\u001b[0;34m=\u001b[0m\u001b[0mvalidation_steps\u001b[0m\u001b[0;34m,\u001b[0m\u001b[0;34m\u001b[0m\u001b[0;34m\u001b[0m\u001b[0m\n\u001b[0;32m-> 1239\u001b[0;31m                                         validation_freq=validation_freq)\n\u001b[0m\u001b[1;32m   1240\u001b[0m \u001b[0;34m\u001b[0m\u001b[0m\n\u001b[1;32m   1241\u001b[0m     def evaluate(self,\n",
      "\u001b[0;32m~/study_env/lib/python3.6/site-packages/keras/engine/training_arrays.py\u001b[0m in \u001b[0;36mfit_loop\u001b[0;34m(model, fit_function, fit_inputs, out_labels, batch_size, epochs, verbose, callbacks, val_function, val_inputs, shuffle, initial_epoch, steps_per_epoch, validation_steps, validation_freq)\u001b[0m\n\u001b[1;32m    194\u001b[0m                     \u001b[0mins_batch\u001b[0m\u001b[0;34m[\u001b[0m\u001b[0mi\u001b[0m\u001b[0;34m]\u001b[0m \u001b[0;34m=\u001b[0m \u001b[0mins_batch\u001b[0m\u001b[0;34m[\u001b[0m\u001b[0mi\u001b[0m\u001b[0;34m]\u001b[0m\u001b[0;34m.\u001b[0m\u001b[0mtoarray\u001b[0m\u001b[0;34m(\u001b[0m\u001b[0;34m)\u001b[0m\u001b[0;34m\u001b[0m\u001b[0;34m\u001b[0m\u001b[0m\n\u001b[1;32m    195\u001b[0m \u001b[0;34m\u001b[0m\u001b[0m\n\u001b[0;32m--> 196\u001b[0;31m                 \u001b[0mouts\u001b[0m \u001b[0;34m=\u001b[0m \u001b[0mfit_function\u001b[0m\u001b[0;34m(\u001b[0m\u001b[0mins_batch\u001b[0m\u001b[0;34m)\u001b[0m\u001b[0;34m\u001b[0m\u001b[0;34m\u001b[0m\u001b[0m\n\u001b[0m\u001b[1;32m    197\u001b[0m                 \u001b[0mouts\u001b[0m \u001b[0;34m=\u001b[0m \u001b[0mto_list\u001b[0m\u001b[0;34m(\u001b[0m\u001b[0mouts\u001b[0m\u001b[0;34m)\u001b[0m\u001b[0;34m\u001b[0m\u001b[0;34m\u001b[0m\u001b[0m\n\u001b[1;32m    198\u001b[0m                 \u001b[0;32mfor\u001b[0m \u001b[0ml\u001b[0m\u001b[0;34m,\u001b[0m \u001b[0mo\u001b[0m \u001b[0;32min\u001b[0m \u001b[0mzip\u001b[0m\u001b[0;34m(\u001b[0m\u001b[0mout_labels\u001b[0m\u001b[0;34m,\u001b[0m \u001b[0mouts\u001b[0m\u001b[0;34m)\u001b[0m\u001b[0;34m:\u001b[0m\u001b[0;34m\u001b[0m\u001b[0;34m\u001b[0m\u001b[0m\n",
      "\u001b[0;32m~/study_env/lib/python3.6/site-packages/tensorflow/python/keras/backend.py\u001b[0m in \u001b[0;36m__call__\u001b[0;34m(self, inputs)\u001b[0m\n\u001b[1;32m   3290\u001b[0m \u001b[0;34m\u001b[0m\u001b[0m\n\u001b[1;32m   3291\u001b[0m     fetched = self._callable_fn(*array_vals,\n\u001b[0;32m-> 3292\u001b[0;31m                                 run_metadata=self.run_metadata)\n\u001b[0m\u001b[1;32m   3293\u001b[0m     \u001b[0mself\u001b[0m\u001b[0;34m.\u001b[0m\u001b[0m_call_fetch_callbacks\u001b[0m\u001b[0;34m(\u001b[0m\u001b[0mfetched\u001b[0m\u001b[0;34m[\u001b[0m\u001b[0;34m-\u001b[0m\u001b[0mlen\u001b[0m\u001b[0;34m(\u001b[0m\u001b[0mself\u001b[0m\u001b[0;34m.\u001b[0m\u001b[0m_fetches\u001b[0m\u001b[0;34m)\u001b[0m\u001b[0;34m:\u001b[0m\u001b[0;34m]\u001b[0m\u001b[0;34m)\u001b[0m\u001b[0;34m\u001b[0m\u001b[0;34m\u001b[0m\u001b[0m\n\u001b[1;32m   3294\u001b[0m     output_structure = nest.pack_sequence_as(\n",
      "\u001b[0;32m~/study_env/lib/python3.6/site-packages/tensorflow/python/client/session.py\u001b[0m in \u001b[0;36m__call__\u001b[0;34m(self, *args, **kwargs)\u001b[0m\n\u001b[1;32m   1456\u001b[0m         ret = tf_session.TF_SessionRunCallable(self._session._session,\n\u001b[1;32m   1457\u001b[0m                                                \u001b[0mself\u001b[0m\u001b[0;34m.\u001b[0m\u001b[0m_handle\u001b[0m\u001b[0;34m,\u001b[0m \u001b[0margs\u001b[0m\u001b[0;34m,\u001b[0m\u001b[0;34m\u001b[0m\u001b[0;34m\u001b[0m\u001b[0m\n\u001b[0;32m-> 1458\u001b[0;31m                                                run_metadata_ptr)\n\u001b[0m\u001b[1;32m   1459\u001b[0m         \u001b[0;32mif\u001b[0m \u001b[0mrun_metadata\u001b[0m\u001b[0;34m:\u001b[0m\u001b[0;34m\u001b[0m\u001b[0;34m\u001b[0m\u001b[0m\n\u001b[1;32m   1460\u001b[0m           \u001b[0mproto_data\u001b[0m \u001b[0;34m=\u001b[0m \u001b[0mtf_session\u001b[0m\u001b[0;34m.\u001b[0m\u001b[0mTF_GetBuffer\u001b[0m\u001b[0;34m(\u001b[0m\u001b[0mrun_metadata_ptr\u001b[0m\u001b[0;34m)\u001b[0m\u001b[0;34m\u001b[0m\u001b[0;34m\u001b[0m\u001b[0m\n",
      "\u001b[0;31mKeyboardInterrupt\u001b[0m: "
     ]
    }
   ],
   "source": [
    "history = model.fit(np.array(X_train[:20000]), np.array(y_train[:20000]), epochs=24, validation_split=0.2)"
   ]
  },
  {
   "cell_type": "code",
   "execution_count": 139,
   "metadata": {},
   "outputs": [
    {
     "data": {
      "text/plain": [
       "array([-1.10473633e-02, -1.36718750e-02, -9.67407227e-03, -7.41577148e-03,\n",
       "       -1.13525391e-02, -1.16577148e-02, -6.22558594e-03,  1.55639648e-03,\n",
       "        2.71606445e-03,  1.37329102e-03, -1.22070312e-03, -2.86865234e-03,\n",
       "       -4.63867188e-03, -1.09863281e-03,  6.89697266e-03,  1.14746094e-02,\n",
       "        9.03320312e-03,  5.40161133e-03,  6.89697266e-03,  8.51440430e-03,\n",
       "        6.59179688e-03,  2.80761719e-03,  5.15747070e-03,  9.91821289e-03,\n",
       "        1.17492676e-02,  9.64355469e-03,  9.18579102e-03,  8.05664062e-03,\n",
       "        4.30297852e-03, -4.57763672e-04,  2.74658203e-04,  4.69970703e-03,\n",
       "        7.17163086e-03,  4.69970703e-03,  1.61743164e-03, -2.44140625e-04,\n",
       "       -2.99072266e-03, -6.43920898e-03, -7.41577148e-03, -6.01196289e-03,\n",
       "       -5.40161133e-03, -6.59179688e-03, -7.23266602e-03, -7.23266602e-03,\n",
       "       -8.94165039e-03, -1.21154785e-02, -1.39160156e-02, -1.14440918e-02,\n",
       "       -8.48388672e-03, -6.16455078e-03, -4.54711914e-03, -2.62451172e-03,\n",
       "       -3.99780273e-03, -6.59179688e-03, -7.50732422e-03, -3.47900391e-03,\n",
       "       -2.44140625e-04,  9.46044922e-04, -8.54492188e-04,  1.19018555e-03,\n",
       "        1.98364258e-03,  1.58691406e-03, -1.98364258e-03, -3.08227539e-03,\n",
       "       -5.61523438e-03, -6.16455078e-03, -5.31005859e-03, -1.64794922e-03,\n",
       "       -8.23974609e-04, -5.49316406e-03, -1.06201172e-02, -1.58081055e-02,\n",
       "       -1.35803223e-02, -1.08947754e-02, -7.90405273e-03, -8.94165039e-03,\n",
       "       -1.12609863e-02, -1.54113770e-02, -1.38854980e-02, -4.05883789e-03,\n",
       "        1.32141113e-02,  1.77612305e-02,  3.60107422e-03, -1.66320801e-02,\n",
       "       -1.30920410e-02,  1.24816895e-02,  3.16467285e-02,  1.88598633e-02,\n",
       "       -1.64794922e-03,  2.07519531e-03,  2.26745605e-02,  2.88085938e-02,\n",
       "        1.25732422e-02,  4.48608398e-03,  1.20544434e-02,  2.04772949e-02,\n",
       "        1.52282715e-02,  1.33972168e-02,  2.11181641e-02,  2.52380371e-02,\n",
       "        1.14746094e-02, -1.64794922e-03,  1.12915039e-03,  1.44958496e-02,\n",
       "        1.77001953e-02,  1.02844238e-02,  3.14331055e-03,  2.62451172e-03,\n",
       "        2.80761719e-03,  2.47192383e-03,  1.22070312e-03, -2.19726562e-03,\n",
       "       -6.59179688e-03, -6.80541992e-03, -1.37329102e-03,  1.37329102e-03,\n",
       "       -3.63159180e-03, -1.15356445e-02, -1.29699707e-02, -1.18103027e-02,\n",
       "       -1.11999512e-02, -1.15966797e-02, -7.01904297e-03, -3.93676758e-03,\n",
       "       -7.56835938e-03, -1.49536133e-02, -1.44958496e-02, -8.60595703e-03,\n",
       "       -5.55419922e-03, -9.27734375e-03, -9.94873047e-03, -5.43212891e-03,\n",
       "       -1.22070312e-04,  3.66210938e-04, -3.05175781e-04, -1.00708008e-03,\n",
       "       -3.08227539e-03, -4.85229492e-03, -5.18798828e-04,  8.45336914e-03,\n",
       "        1.22985840e-02,  8.05664062e-03,  3.08227539e-03,  4.45556641e-03,\n",
       "        7.01904297e-03,  7.17163086e-03,  5.61523438e-03,  8.54492188e-03,\n",
       "        1.04675293e-02,  1.00402832e-02,  7.44628906e-03,  7.99560547e-03,\n",
       "        7.65991211e-03,  4.66918945e-03,  1.06811523e-03,  2.44140625e-03,\n",
       "        6.01196289e-03,  7.47680664e-03,  4.30297852e-03,  1.40380859e-03,\n",
       "       -1.25122070e-03, -3.81469727e-03, -5.43212891e-03, -3.81469727e-03,\n",
       "       -2.13623047e-03, -3.44848633e-03, -6.50024414e-03, -7.87353516e-03,\n",
       "       -7.99560547e-03, -9.67407227e-03, -1.19934082e-02, -1.18408203e-02,\n",
       "       -9.09423828e-03, -7.69042969e-03, -7.32421875e-03, -6.71386719e-03,\n",
       "       -5.46264648e-03, -6.43920898e-03, -8.33129883e-03, -7.65991211e-03,\n",
       "       -2.99072266e-03,  9.15527344e-04,  1.34277344e-03,  3.96728516e-04,\n",
       "       -1.28173828e-03, -1.55639648e-03, -1.15966797e-03, -2.07519531e-03,\n",
       "       -2.16674805e-03, -5.79833984e-04, -2.41088867e-03, -5.55419922e-03,\n",
       "       -5.46264648e-03, -4.33349609e-03, -6.98852539e-03, -1.15966797e-02,\n",
       "       -1.33666992e-02, -1.14135742e-02, -9.55200195e-03, -9.39941406e-03,\n",
       "       -1.08032227e-02, -1.24511719e-02, -1.56860352e-02, -1.52893066e-02,\n",
       "       -4.27246094e-03,  1.38244629e-02,  2.14538574e-02,  7.20214844e-03,\n",
       "       -1.61743164e-02, -1.67541504e-02,  8.66699219e-03,  3.08227539e-02,\n",
       "        2.03552246e-02,  1.83105469e-03,  5.64575195e-03,  2.50244141e-02,\n",
       "        2.55432129e-02,  7.23266602e-03,  2.47192383e-03,  1.61437988e-02,\n",
       "        2.37731934e-02,  1.26037598e-02,  9.21630859e-03,  2.26135254e-02,\n",
       "        3.03344727e-02,  1.25427246e-02, -5.61523438e-03, -2.44140625e-03,\n",
       "        1.39770508e-02,  1.82189941e-02,  1.19018555e-02,  6.50024414e-03,\n",
       "        5.92041016e-03,  1.64794922e-03, -2.50244141e-03, -2.44140625e-03,\n",
       "       -5.49316406e-04, -2.83813477e-03, -4.54711914e-03, -1.34277344e-03,\n",
       "        9.15527344e-04, -4.11987305e-03, -1.10778809e-02, -1.24511719e-02,\n",
       "       -1.18713379e-02, -1.29394531e-02, -1.26342773e-02, -5.37109375e-03,\n",
       "       -4.57763672e-04, -5.92041016e-03, -1.65710449e-02, -1.76696777e-02,\n",
       "       -1.06201172e-02, -6.16455078e-03, -8.33129883e-03, -7.84301758e-03,\n",
       "       -3.23486328e-03, -7.62939453e-04, -3.35693359e-03, -3.87573242e-03,\n",
       "       -1.12915039e-03, -4.27246094e-04, -2.68554688e-03, -1.06811523e-03,\n",
       "        6.43920898e-03,  1.15051270e-02,  9.12475586e-03,  3.90625000e-03,\n",
       "        3.14331055e-03,  4.48608398e-03,  5.76782227e-03,  7.32421875e-03,\n",
       "        1.12304688e-02,  1.25122070e-02,  9.79614258e-03,  5.88989258e-03,\n",
       "        5.52368164e-03,  6.19506836e-03,  5.09643555e-03,  3.72314453e-03,\n",
       "        5.24902344e-03,  7.08007812e-03,  5.64575195e-03,  2.74658203e-03,\n",
       "        1.40380859e-03, -6.10351562e-05, -2.96020508e-03, -4.85229492e-03,\n",
       "       -3.05175781e-03, -2.44140625e-04, -1.52587891e-03, -5.79833984e-03,\n",
       "       -8.66699219e-03, -9.36889648e-03, -1.05895996e-02, -1.13220215e-02,\n",
       "       -9.94873047e-03, -7.23266602e-03, -7.11059570e-03, -8.63647461e-03,\n",
       "       -9.79614258e-03, -8.48388672e-03, -8.17871094e-03, -8.36181641e-03,\n",
       "       -7.17163086e-03, -3.05175781e-03, -1.52587891e-04,  5.79833984e-04,\n",
       "       -7.93457031e-04, -1.58691406e-03, -1.77001953e-03, -2.31933594e-03,\n",
       "       -2.74658203e-03, -6.10351562e-04, -9.15527344e-05, -2.25830078e-03,\n",
       "       -3.84521484e-03, -4.60815430e-03, -6.25610352e-03, -1.06506348e-02,\n",
       "       -1.05895996e-02, -8.42285156e-03, -8.78906250e-03, -1.12609863e-02,\n",
       "       -1.07727051e-02, -9.94873047e-03, -1.08642578e-02, -1.68151855e-02,\n",
       "       -1.55029297e-02, -5.40161133e-03,  1.75170898e-02,  2.66418457e-02,\n",
       "        7.65991211e-03, -2.16979980e-02, -2.20642090e-02,  1.18408203e-02,\n",
       "        3.56750488e-02,  2.14843750e-02,  1.52587891e-04,  7.87353516e-03,\n",
       "        2.79541016e-02,  2.14843750e-02,  6.10351562e-05,  2.31933594e-03,\n",
       "        2.35595703e-02,  2.74353027e-02,  8.20922852e-03,  4.82177734e-03,\n",
       "        2.45056152e-02,  3.32641602e-02,  1.05895996e-02, -1.02233887e-02,\n",
       "       -4.18090820e-03,  1.55029297e-02,  1.95922852e-02,  1.30920410e-02,\n",
       "        8.23974609e-03,  6.28662109e-03, -1.61743164e-03, -7.41577148e-03,\n",
       "       -4.60815430e-03,  1.40380859e-03,  1.12915039e-03, -1.25122070e-03,\n",
       "       -1.22070312e-03, -2.19726562e-03, -8.39233398e-03, -1.27258301e-02,\n",
       "       -1.08947754e-02, -9.70458984e-03, -1.26037598e-02, -1.26953125e-02,\n",
       "       -3.87573242e-03,  1.12915039e-03, -6.71386719e-03, -1.92565918e-02,\n",
       "       -1.94396973e-02, -1.08337402e-02, -5.82885742e-03, -6.95800781e-03,\n",
       "       -4.54711914e-03, -6.10351562e-05, -1.55639648e-03, -8.42285156e-03,\n",
       "       -8.75854492e-03, -1.77001953e-03,  2.41088867e-03,  7.32421875e-04,\n",
       "        1.06811523e-03,  6.65283203e-03,  9.70458984e-03,  6.43920898e-03,\n",
       "        2.80761719e-03,  3.75366211e-03,  5.64575195e-03,  6.46972656e-03,\n",
       "        8.81958008e-03,  1.36413574e-02,  1.38549805e-02,  8.36181641e-03,\n",
       "        3.38745117e-03,  4.42504883e-03,  6.53076172e-03,  6.31713867e-03,\n",
       "        6.80541992e-03,  9.33837891e-03,  9.12475586e-03,  3.54003906e-03,\n",
       "       -7.01904297e-04,  3.35693359e-04,  1.95312500e-03, -2.74658203e-04,\n",
       "       -2.68554688e-03, -9.76562500e-04,  1.06811523e-03, -2.04467773e-03,\n",
       "       -7.47680664e-03, -9.42993164e-03, -8.85009766e-03, -9.55200195e-03,\n",
       "       -1.03454590e-02, -7.87353516e-03, -5.09643555e-03, -7.01904297e-03,\n",
       "       -1.13220215e-02, -1.27868652e-02, -1.06201172e-02, -8.72802734e-03,\n",
       "       -7.41577148e-03, -4.79125977e-03, -1.83105469e-03, -2.34985352e-03,\n",
       "       -4.39453125e-03, -3.96728516e-03, -1.55639648e-03, -1.55639648e-03,\n",
       "       -2.83813477e-03, -1.73950195e-03,  8.85009766e-04,  1.83105469e-04,\n",
       "       -2.86865234e-03, -7.26318359e-03, -6.01196289e-03, -5.82885742e-03,\n",
       "       -5.52368164e-03, -6.89697266e-03, -7.38525391e-03, -1.00402832e-02,\n",
       "       -1.24816895e-02, -1.28479004e-02, -1.21154785e-02, -1.10168457e-02,\n",
       "       -1.41906738e-02, -1.44958496e-02, -1.01013184e-02,  5.79833984e-03,\n",
       "        2.39868164e-02,  2.05688477e-02, -6.77490234e-03, -2.92968750e-02,\n",
       "       -1.16271973e-02,  2.55432129e-02,  3.64990234e-02,  1.47094727e-02,\n",
       "        3.78417969e-03,  1.85546875e-02,  2.51770020e-02,  3.81469727e-03,\n",
       "       -6.95800781e-03,  1.48620605e-02,  3.76586914e-02,  2.46276855e-02,\n",
       "        2.47192383e-03,  8.54492188e-03,  2.93884277e-02,  2.39868164e-02,\n",
       "       -1.86157227e-03, -9.49096680e-03,  8.36181641e-03,  2.14538574e-02,\n",
       "        1.71813965e-02,  1.06811523e-02,  9.24682617e-03,  3.41796875e-03,\n",
       "       -9.33837891e-03, -1.22070312e-02, -2.89916992e-03,  6.98852539e-03,\n",
       "        6.46972656e-03,  2.41088867e-03, -3.26538086e-03, -1.10473633e-02,\n",
       "       -1.82189941e-02, -1.47399902e-02, -6.83593750e-03, -4.30297852e-03,\n",
       "       -9.39941406e-03, -9.15527344e-03, -4.24194336e-03, -5.49316406e-03,\n",
       "       -1.60522461e-02, -2.13623047e-02, -1.40380859e-02, -5.58471680e-03,\n",
       "       -5.46264648e-03, -6.13403320e-03, -1.34277344e-03,  6.71386719e-04,\n",
       "       -7.35473633e-03, -1.46789551e-02, -8.48388672e-03,  3.23486328e-03,\n",
       "        6.68334961e-03,  3.08227539e-03,  4.11987305e-03,  8.14819336e-03,\n",
       "        5.49316406e-03, -1.03759766e-03,  2.13623047e-04,  8.54492188e-03,\n",
       "        1.29394531e-02,  1.03149414e-02,  9.64355469e-03,  1.20849609e-02,\n",
       "        1.06811523e-02,  4.33349609e-03,  2.19726562e-03,  6.59179688e-03,\n",
       "        1.01623535e-02,  9.15527344e-03,  8.33129883e-03,  9.24682617e-03,\n",
       "        6.28662109e-03, -4.27246094e-04, -3.29589844e-03,  4.57763672e-04,\n",
       "        3.44848633e-03,  2.10571289e-03,  7.32421875e-04,  8.54492188e-04,\n",
       "       -2.07519531e-03, -8.72802734e-03, -1.20239258e-02, -8.42285156e-03,\n",
       "       -4.82177734e-03, -6.01196289e-03, -7.99560547e-03, -7.47680664e-03,\n",
       "       -7.81250000e-03, -1.18713379e-02, -1.46484375e-02, -1.16271973e-02,\n",
       "       -6.65283203e-03, -5.58471680e-03, -6.71386719e-03, -5.37109375e-03,\n",
       "       -3.20434570e-03, -4.51660156e-03, -6.95800781e-03, -5.61523438e-03,\n",
       "       -9.76562500e-04,  1.03759766e-03,  2.74658203e-04,  6.10351562e-05,\n",
       "       -7.01904297e-04, -4.11987305e-03, -6.92749023e-03, -6.59179688e-03,\n",
       "       -4.85229492e-03, -4.27246094e-03, -4.54711914e-03, -6.68334961e-03,\n",
       "       -6.89697266e-03, -1.02844238e-02, -1.37329102e-02, -1.49536133e-02,\n",
       "       -1.15661621e-02, -1.03454590e-02, -1.26342773e-02, -1.36108398e-02,\n",
       "       -6.53076172e-03,  1.07727051e-02,  2.45971680e-02,  1.55029297e-02,\n",
       "       -1.43127441e-02, -2.84118652e-02, -3.99780273e-03,  3.24707031e-02,\n",
       "        3.51562500e-02,  1.20849609e-02,  6.13403320e-03,  2.13928223e-02,\n",
       "        1.90124512e-02, -4.57763672e-03, -5.92041016e-03,  2.55737305e-02,\n",
       "        4.46777344e-02,  2.21557617e-02, -2.16674805e-03,  7.78198242e-03,\n",
       "        2.81372070e-02,  1.91650391e-02, -4.11987305e-03, -3.81469727e-03,\n",
       "        1.57165527e-02,  2.19116211e-02,  1.17187500e-02,  5.55419922e-03,\n",
       "        8.14819336e-03,  2.50244141e-03, -1.03454590e-02, -1.30310059e-02,\n",
       "       -1.61743164e-03,  8.60595703e-03,  7.87353516e-03,  1.61743164e-03,\n",
       "       -6.59179688e-03, -1.66320801e-02, -2.18200684e-02, -1.45568848e-02,\n",
       "       -3.26538086e-03, -7.32421875e-04, -6.92749023e-03, -8.97216797e-03,\n",
       "       -8.14819336e-03, -1.25427246e-02, -2.10266113e-02, -1.88293457e-02,\n",
       "       -6.77490234e-03, -4.88281250e-04, -5.95092773e-03, -9.00268555e-03,\n",
       "       -3.99780273e-03, -1.37329102e-03, -9.33837891e-03, -1.44653320e-02,\n",
       "       -5.76782227e-03,  7.01904297e-03,  9.61303711e-03,  4.02832031e-03,\n",
       "        2.56347656e-03,  5.31005859e-03,  3.60107422e-03, -1.12915039e-03,\n",
       "        1.55639648e-03,  1.12915039e-02,  1.80358887e-02,  1.50451660e-02,\n",
       "        9.76562500e-03,  6.65283203e-03,  5.88989258e-03,  4.69970703e-03,\n",
       "        6.80541992e-03,  1.07421875e-02,  1.26953125e-02,  1.08642578e-02,\n",
       "        8.81958008e-03,  5.98144531e-03,  1.86157227e-03, -1.64794922e-03,\n",
       "        2.13623047e-04,  4.60815430e-03,  5.21850586e-03,  1.92260742e-03,\n",
       "       -2.74658203e-04, -7.01904297e-04, -4.51660156e-03, -1.05895996e-02,\n",
       "       -1.13220215e-02, -5.95092773e-03, -2.38037109e-03, -4.63867188e-03,\n",
       "       -8.48388672e-03, -9.73510742e-03, -1.13525391e-02, -1.38854980e-02,\n",
       "       -1.41601562e-02, -9.64355469e-03, -5.31005859e-03, -4.73022461e-03,\n",
       "       -6.46972656e-03, -7.26318359e-03, -7.72094727e-03, -8.45336914e-03,\n",
       "       -7.38525391e-03, -3.17382812e-03,  5.49316406e-04,  1.25122070e-03,\n",
       "        6.10351562e-05, -7.01904297e-04, -2.28881836e-03, -5.40161133e-03,\n",
       "       -6.89697266e-03, -4.94384766e-03, -2.96020508e-03, -2.50244141e-03,\n",
       "       -5.18798828e-03, -7.08007812e-03, -9.09423828e-03, -1.07727051e-02,\n",
       "       -1.33666992e-02, -1.29394531e-02, -1.11389160e-02, -1.09558105e-02,\n",
       "       -1.27258301e-02, -1.41296387e-02, -1.20849609e-02,  1.64794922e-03,\n",
       "        2.32849121e-02,  2.64282227e-02, -1.61743164e-03, -2.97546387e-02,\n",
       "       -1.59606934e-02,  2.40783691e-02,  4.00390625e-02,  1.91040039e-02,\n",
       "        6.59179688e-03,  2.07214355e-02,  2.56042480e-02, -6.40869141e-04,\n",
       "       -1.27258301e-02,  1.70593262e-02,  4.98352051e-02,  3.52478027e-02,\n",
       "        2.44140625e-04, -2.19726562e-03,  2.22778320e-02,  2.60314941e-02,\n",
       "        3.38745117e-03, -4.36401367e-03,  1.25122070e-02,  2.20031738e-02,\n",
       "        1.02539062e-02,  1.22070312e-03,  6.34765625e-03,  9.33837891e-03,\n",
       "       -3.41796875e-03, -1.38244629e-02, -9.27734375e-03,  2.71606445e-03,\n",
       "        6.34765625e-03,  4.05883789e-03, -1.89208984e-03, -1.23596191e-02,\n",
       "       -2.30712891e-02, -2.07519531e-02, -8.02612305e-03,  1.22070312e-04,\n",
       "       -4.02832031e-03, -8.63647461e-03, -8.69750977e-03, -1.21154785e-02,\n",
       "       -2.16674805e-02, -2.26135254e-02, -8.54492188e-03,  2.71606445e-03,\n",
       "       -2.31933594e-03, -1.16882324e-02, -9.36889648e-03, -2.62451172e-03,\n",
       "       -5.37109375e-03, -1.24816895e-02, -7.99560547e-03,  3.20434570e-03,\n",
       "        8.51440430e-03,  5.27954102e-03,  5.00488281e-03,  6.53076172e-03,\n",
       "        3.35693359e-03, -1.43432617e-03,  1.95312500e-03,  1.10778809e-02,\n",
       "        1.62658691e-02,  1.48620605e-02,  1.42822266e-02,  1.33972168e-02,\n",
       "        7.23266602e-03,  3.96728516e-04,  3.44848633e-03,  1.38854980e-02,\n",
       "        1.78833008e-02,  1.24511719e-02,  8.05664062e-03,  7.78198242e-03,\n",
       "        4.36401367e-03, -1.95312500e-03, -2.19726562e-03,  5.06591797e-03,\n",
       "        8.51440430e-03,  3.47900391e-03, -2.07519531e-03, -2.04467773e-03,\n",
       "       -3.32641602e-03, -8.81958008e-03, -1.19628906e-02, -7.93457031e-03,\n",
       "       -3.81469727e-03, -5.24902344e-03, -8.60595703e-03, -8.91113281e-03],\n",
       "      dtype=float32)"
      ]
     },
     "execution_count": 139,
     "metadata": {},
     "output_type": "execute_result"
    }
   ],
   "source": [
    "X_train[20002]"
   ]
  },
  {
   "cell_type": "code",
   "execution_count": null,
   "metadata": {},
   "outputs": [],
   "source": []
  },
  {
   "cell_type": "code",
   "execution_count": 110,
   "metadata": {},
   "outputs": [],
   "source": [
    "pr = model.predict(np.expand_dims(X_train[20002], axis=0))"
   ]
  },
  {
   "cell_type": "code",
   "execution_count": 111,
   "metadata": {},
   "outputs": [
    {
     "data": {
      "text/plain": [
       "0.43401635"
      ]
     },
     "execution_count": 111,
     "metadata": {},
     "output_type": "execute_result"
    }
   ],
   "source": [
    "pr.max()"
   ]
  },
  {
   "cell_type": "code",
   "execution_count": 121,
   "metadata": {},
   "outputs": [
    {
     "data": {
      "text/plain": [
       "18"
      ]
     },
     "execution_count": 121,
     "metadata": {},
     "output_type": "execute_result"
    }
   ],
   "source": [
    "np.where(pr[0] == pr.max())[0][0]"
   ]
  },
  {
   "cell_type": "code",
   "execution_count": 117,
   "metadata": {},
   "outputs": [
    {
     "data": {
      "text/plain": [
       "0.43401635"
      ]
     },
     "execution_count": 117,
     "metadata": {},
     "output_type": "execute_result"
    }
   ],
   "source": [
    "pr[0][18]"
   ]
  },
  {
   "cell_type": "code",
   "execution_count": 122,
   "metadata": {},
   "outputs": [
    {
     "data": {
      "text/plain": [
       "array([0., 0., 0., 0., 0., 0., 0., 0., 0., 0., 0., 0., 0., 0., 0., 0., 1.,\n",
       "       0., 0., 0., 0., 0., 0., 0., 0., 0., 0., 0., 0., 0., 0., 0., 0., 0.,\n",
       "       0., 0., 0., 0., 0., 0., 0., 0., 0., 0., 0., 0., 0., 0., 0., 0., 0.,\n",
       "       0., 0., 0., 0., 0., 0., 0., 0., 0., 0.])"
      ]
     },
     "execution_count": 122,
     "metadata": {},
     "output_type": "execute_result"
    }
   ],
   "source": [
    "y_train[20001]"
   ]
  },
  {
   "cell_type": "code",
   "execution_count": 123,
   "metadata": {},
   "outputs": [
    {
     "data": {
      "text/plain": [
       "36"
      ]
     },
     "execution_count": 123,
     "metadata": {},
     "output_type": "execute_result"
    }
   ],
   "source": [
    "np.where(y_train[20000] == 1)[0][0]"
   ]
  },
  {
   "cell_type": "code",
   "execution_count": 140,
   "metadata": {},
   "outputs": [],
   "source": [
    "count = 0\n",
    "for i in range(1000):\n",
    "    pr = model.predict(np.expand_dims(X_train[20000 + i], axis=0))\n",
    "    ind = np.where(pr[0] == pr.max())[0][0]\n",
    "    if np.where(y_train[20000 + i] == 1)[0][0] == ind:\n",
    "        count += 1"
   ]
  },
  {
   "cell_type": "code",
   "execution_count": 141,
   "metadata": {},
   "outputs": [
    {
     "data": {
      "text/plain": [
       "0.393"
      ]
     },
     "execution_count": 141,
     "metadata": {},
     "output_type": "execute_result"
    }
   ],
   "source": [
    "count / 1000"
   ]
  },
  {
   "cell_type": "code",
   "execution_count": 3,
   "metadata": {},
   "outputs": [],
   "source": [
    "y, sr = librosa.load('/home/anton/ITS_Partner_Lab/its_partnet_lab/source/tst.wav')"
   ]
  },
  {
   "cell_type": "code",
   "execution_count": 4,
   "metadata": {},
   "outputs": [
    {
     "data": {
      "text/plain": [
       "22050"
      ]
     },
     "execution_count": 4,
     "metadata": {},
     "output_type": "execute_result"
    }
   ],
   "source": [
    "sr"
   ]
  },
  {
   "cell_type": "code",
   "execution_count": 5,
   "metadata": {},
   "outputs": [
    {
     "data": {
      "text/plain": [
       "array([ 0.00358838,  0.00738503,  0.00793451, ...,  0.00355835,\n",
       "       -0.00043123, -0.00221435], dtype=float32)"
      ]
     },
     "execution_count": 5,
     "metadata": {},
     "output_type": "execute_result"
    }
   ],
   "source": [
    "y"
   ]
  },
  {
   "cell_type": "code",
   "execution_count": 6,
   "metadata": {},
   "outputs": [
    {
     "data": {
      "text/plain": [
       "88200"
      ]
     },
     "execution_count": 6,
     "metadata": {},
     "output_type": "execute_result"
    }
   ],
   "source": [
    "len(y)"
   ]
  }
 ],
 "metadata": {
  "kernelspec": {
   "display_name": "Python 3",
   "language": "python",
   "name": "python3"
  },
  "language_info": {
   "codemirror_mode": {
    "name": "ipython",
    "version": 3
   },
   "file_extension": ".py",
   "mimetype": "text/x-python",
   "name": "python",
   "nbconvert_exporter": "python",
   "pygments_lexer": "ipython3",
   "version": "3.6.8"
  }
 },
 "nbformat": 4,
 "nbformat_minor": 2
}
